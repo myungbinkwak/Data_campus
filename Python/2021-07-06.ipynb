{
 "cells": [
  {
   "cell_type": "code",
   "execution_count": 1,
   "metadata": {},
   "outputs": [],
   "source": [
    "import pandas"
   ]
  },
  {
   "cell_type": "code",
   "execution_count": 2,
   "metadata": {},
   "outputs": [
    {
     "name": "stdout",
     "output_type": "stream",
     "text": [
      "Requirement already satisfied: pandas in d:\\anaconda3\\lib\\site-packages (0.24.2)\n",
      "Requirement already satisfied: python-dateutil>=2.5.0 in d:\\anaconda3\\lib\\site-packages (from pandas) (2.8.0)\n",
      "Requirement already satisfied: pytz>=2011k in d:\\anaconda3\\lib\\site-packages (from pandas) (2018.9)\n",
      "Requirement already satisfied: numpy>=1.12.0 in d:\\anaconda3\\lib\\site-packages (from pandas) (1.16.2)\n",
      "Requirement already satisfied: six>=1.5 in d:\\anaconda3\\lib\\site-packages (from python-dateutil>=2.5.0->pandas) (1.12.0)\n"
     ]
    }
   ],
   "source": [
    "!pip install pandas"
   ]
  },
  {
   "cell_type": "code",
   "execution_count": 8,
   "metadata": {},
   "outputs": [
    {
     "name": "stdout",
     "output_type": "stream",
     "text": [
      "   과목번호   과목명\n",
      "0     1    수학\n",
      "1     2    과학\n",
      "2     3  빅데이터\n"
     ]
    }
   ],
   "source": [
    "import pandas as pd\n",
    "\n",
    "\n",
    "no = []\n",
    "subject_name = []\n",
    "no.append(1)\n",
    "no.append(2)\n",
    "no.append(3)\n",
    "\n",
    "subject_name.append('수학')\n",
    "subject_name.append('과학')\n",
    "subject_name.append('빅데이터')\n",
    "\n",
    "subject = pd.DataFrame()\n",
    "subject['과목번호'] = no\n",
    "subject['과목명'] = subject_name\n",
    "\n",
    "print(subject)\n",
    "\n",
    "subject.to_csv('subject.csv', encoding='euc-kr', index=False)"
   ]
  },
  {
   "cell_type": "code",
   "execution_count": 9,
   "metadata": {},
   "outputs": [
    {
     "name": "stdout",
     "output_type": "stream",
     "text": [
      "Collecting bs4\n",
      "  Downloading https://files.pythonhosted.org/packages/10/ed/7e8b97591f6f456174139ec089c769f89a94a1a4025fe967691de971f314/bs4-0.0.1.tar.gz\n",
      "Requirement already satisfied: beautifulsoup4 in d:\\anaconda3\\lib\\site-packages (from bs4) (4.7.1)\n",
      "Requirement already satisfied: soupsieve>=1.2 in d:\\anaconda3\\lib\\site-packages (from beautifulsoup4->bs4) (1.8)\n",
      "Building wheels for collected packages: bs4\n",
      "  Building wheel for bs4 (setup.py): started\n",
      "  Building wheel for bs4 (setup.py): finished with status 'done'\n",
      "  Stored in directory: C:\\Users\\USER\\AppData\\Local\\pip\\Cache\\wheels\\a0\\b0\\b2\\4f80b9456b87abedbc0bf2d52235414c3467d8889be38dd472\n",
      "Successfully built bs4\n",
      "Installing collected packages: bs4\n",
      "Successfully installed bs4-0.0.1\n"
     ]
    }
   ],
   "source": [
    "!pip install bs4"
   ]
  },
  {
   "cell_type": "code",
   "execution_count": 10,
   "metadata": {},
   "outputs": [],
   "source": [
    "import bs4"
   ]
  },
  {
   "cell_type": "code",
   "execution_count": 22,
   "metadata": {},
   "outputs": [],
   "source": [
    "from bs4 import BeautifulSoup\n",
    "ex1 = '''\n",
    "<!doctype html>\n",
    "<html lang='ko'>\n",
    "\t<head>\n",
    "\t<meta charset='utf-8'>\n",
    "\t<title> HTML 연습</title>\n",
    "\t</head>\n",
    "\t<body>\n",
    "\t<h1> 나의 좌우명</h1>\n",
    "\t<p> 할 수 있다고 생각을 하든\n",
    "할 수 없다고 생각을 하든\n",
    "생각대로 됩니다!</p>\n",
    "<p>테스트1</p>\n",
    "<p>테스트2</p>\n",
    "\n",
    "</body>\n",
    "</html>'''\n",
    "soup = BeautifulSoup(ex1, 'html.parser')\n",
    "a = soup.find_all(['p', 'title'])"
   ]
  },
  {
   "cell_type": "code",
   "execution_count": 23,
   "metadata": {},
   "outputs": [
    {
     "data": {
      "text/plain": [
       "[<title> HTML 연습</title>, <p> 할 수 있다고 생각을 하든\n",
       " 할 수 없다고 생각을 하든\n",
       " 생각대로 됩니다!</p>, <p>테스트1</p>, <p>테스트2</p>]"
      ]
     },
     "execution_count": 23,
     "metadata": {},
     "output_type": "execute_result"
    }
   ],
   "source": [
    "a"
   ]
  },
  {
   "cell_type": "code",
   "execution_count": 25,
   "metadata": {},
   "outputs": [
    {
     "name": "stdout",
     "output_type": "stream",
     "text": [
      " HTML 연습\n",
      "------------------\n",
      " 할 수 있다고 생각을 하든\n",
      "할 수 없다고 생각을 하든\n",
      "생각대로 됩니다!\n",
      "------------------\n",
      "테스트1\n",
      "------------------\n",
      "테스트2\n",
      "------------------\n"
     ]
    }
   ],
   "source": [
    "for i in a:\n",
    "    print(i.string)\n",
    "    print(\"------------------\")"
   ]
  },
  {
   "cell_type": "code",
   "execution_count": 27,
   "metadata": {},
   "outputs": [
    {
     "name": "stdout",
     "output_type": "stream",
     "text": [
      "Collecting selenium\n",
      "  Downloading https://files.pythonhosted.org/packages/80/d6/4294f0b4bce4de0abf13e17190289f9d0613b0a44e5dd6a7f5ca98459853/selenium-3.141.0-py2.py3-none-any.whl (904kB)\n",
      "Requirement already satisfied: urllib3 in d:\\anaconda3\\lib\\site-packages (from selenium) (1.24.1)\n",
      "Installing collected packages: selenium\n",
      "Successfully installed selenium-3.141.0\n"
     ]
    }
   ],
   "source": [
    "!pip install selenium"
   ]
  },
  {
   "cell_type": "code",
   "execution_count": 31,
   "metadata": {},
   "outputs": [],
   "source": [
    "from selenium import webdriver\n",
    "browser = webdriver.Chrome('chromedriver.exe')\n",
    "browser.get('https://www.dongguk.edu')"
   ]
  },
  {
   "cell_type": "code",
   "execution_count": 45,
   "metadata": {},
   "outputs": [
    {
     "name": "stdout",
     "output_type": "stream",
     "text": [
      "크롤링할 키워드는 무엇입니까?여행\n"
     ]
    }
   ],
   "source": [
    "from bs4 import BeautifulSoup\n",
    "from selenium import webdriver\n",
    "import time\n",
    "from selenium.webdriver.common.keys import Keys\n",
    "query_txt = input('크롤링할 키워드는 무엇입니까?')\n",
    "path = 'chromedriver.exe'\n",
    "driver = webdriver.Chrome(path)\n",
    "driver.maximize_window()\n",
    "driver.get('https://korean.visitkorea.or.kr/main/main.html')\n",
    "time.sleep(1)\n",
    "#driver.find_element_by_id('openSearchFormInput').click()\n",
    "element = driver.find_element_by_id('inp_search')\n",
    "element.send_keys(query_txt)\n",
    "element.send_keys(Keys.RETURN)\n"
   ]
  },
  {
   "cell_type": "code",
   "execution_count": 48,
   "metadata": {},
   "outputs": [
    {
     "name": "stdout",
     "output_type": "stream",
     "text": [
      "크롤링할 키워드는 무엇입니까?봄여행\n"
     ]
    }
   ],
   "source": [
    "from bs4 import BeautifulSoup\n",
    "from selenium import webdriver\n",
    "import time\n",
    "from selenium.webdriver.common.keys import Keys\n",
    "query_txt = input('크롤링할 키워드는 무엇입니까?')\n",
    "path = 'chromedriver.exe'\n",
    "driver = webdriver.Chrome(path)\n",
    "driver.maximize_window()\n",
    "driver.get('https://www.naver.com')\n",
    "time.sleep(1)\n",
    "element = driver.find_element_by_id('query')\n",
    "element.send_keys(query_txt)\n",
    "#element.send_keys(Keys.RETURN)\n",
    "driver.find_element_by_id('search_btn').click()"
   ]
  },
  {
   "cell_type": "code",
   "execution_count": 4,
   "metadata": {},
   "outputs": [
    {
     "name": "stdout",
     "output_type": "stream",
     "text": [
      "크롤링할 키워드는 무엇입니까?봄여행\n",
      "봄의 유혹, 유채와 튤립을 가슴에 담다\n",
      "'경남 남해 봄꽃 여행'\n",
      "경상남도 남해군\n",
      "#봄꽃여행#봄꽃열전#봄꽃축제\n",
      "더보기\n",
      "\n",
      "\n",
      "\n",
      "\n",
      "\n",
      "\n",
      "\n",
      "\n",
      "국내 당일치기 여행, 진천 봄나들이 추천 명소\n",
      "충청북도 진천군\n",
      "#진천여행#진천가볼만한곳#한반도지형전망공원#한반도지형#농다리#진천농다리#미르숲#농암정#길상사#봄여행지#봄여행지추천\n",
      "더보기\n",
      "\n",
      "\n",
      "\n",
      "\n",
      "\n",
      "\n",
      "\n",
      "\n",
      "세계자연유산(UNESCO)의 봄을 느끼며, 제주도 동부 여행\n",
      "제주도\n",
      "#장애인추천코스#제주가볼만한곳#제주당일코스#제주민속촌#제주올레길#제주해녀박물관#김녕어울림센터#월정리해변#제주돌문화공원#절물자연휴양림#메이즈랜드#두맹이골목#제주1박2일코스\n",
      "더보기\n",
      "\n",
      "\n",
      "\n",
      "\n",
      "\n",
      "\n",
      "\n",
      "\n",
      "할 일 다 제쳐두고 떠나고 싶은 '제천' 봄 여행지 5!\n",
      "충청북도 제천시\n",
      "#제천여행#제천가볼만한곳#봄여행#3월가볼만한곳#박정우염색갤러리#의림지#의림지역사박물관#청풍호반케이블카#시네마360#청풍문화재단지#솔티맥주#미리봄_여행지\n",
      "더보기\n",
      "\n",
      "\n",
      "\n",
      "\n",
      "\n",
      "\n",
      "\n",
      "\n",
      "\n",
      "\n",
      "\n",
      "[강원] 강원도 '다시 봄!' - 봄 여행에 어울리는 강원도 숙소 모음\n",
      "강원도\n",
      "#한국관광품질인증#여행기사#추천숙박#파로호한옥펜션#강릉오죽한옥마을#호텔탑스빌#피카소호텔#화천#강릉#동해#바다#강원숙소#인증숙소#우수숙소#봄!_가족과_함께\n",
      "더보기\n",
      "\n",
      "\n",
      "\n",
      "\n",
      "\n",
      "\n",
      "\n",
      "\n",
      "아침부터 밤까지, 봄 냄새 가득한 '사천' 여행\n",
      "경상남도 사천시\n",
      "#사천여행#사천여행코스#사천가볼만한곳#봄여행#수양공원#사천읍성#포담#실안해안도로#삼천포대교\n",
      "더보기\n",
      "\n",
      "\n",
      "\n",
      "\n",
      "\n",
      "\n",
      "\n",
      "\n",
      "걷고, 먹고, 즐기고··· 포항으로 떠나는 봄 별미 여행\n",
      "경상북도 포항시\n",
      "#트레킹#내연산계곡#보경사#경상북도수목원#연산폭포#관음폭포#기청산식물원#사방기념공원#죽도시장#맛집#물회#포항운하#영일대해수욕장#구룡포#근대문화역사거리#추천가볼만한곳\n",
      "더보기\n",
      "\n",
      "\n",
      "\n",
      "\n",
      "\n",
      "\n",
      "\n",
      "\n",
      "마음을 나누는 엄마 딸 여행, 서울 남산 주변과 한강 물길 봄나들이\n",
      "서울\n",
      "#서울가볼만한곳#아이와함께#친구와함께#연인과함께#봄에가볼만한곳#충무로역#오재미동#영상예술#예술통#거리미술관#필동#남산골한옥마을#전통가옥#국악당#체험학습\n",
      "더보기\n",
      "\n",
      "\n",
      "\n",
      "\n",
      "\n",
      "\n",
      "\n",
      "\n",
      "거제&통영 여행 꿀팁. 깨알 팁 다수 포함! 봄 산책하기 좋은 1박2일 거제&통영 여행 코스\n",
      "경상남도 거제시\n",
      "#거제맛집#거제여행#거제가볼만한곳#통영여행#통영가볼만한곳#통영맛집#통영루지#봄산책#봄여행#걷기좋은길\n",
      "더보기\n",
      "\n",
      "\n",
      "\n",
      "\n",
      "\n",
      "\n",
      "\n",
      "\n",
      "노란 산수유꽃 가득한 포근한 봄여행\n",
      "전라남도 구례군\n",
      "#당일코스#1박2일#2박3일#추천코스#가족코스#힐링코스#자연코스#봄여행지\n",
      "지리산길 산수유마을\n",
      "천은사\n",
      "농업기술센터 자연생태학습장\n",
      "더보기\n",
      "\n",
      "\n",
      "\n",
      "\n",
      "\n",
      "\n",
      "\n",
      "\n",
      "\n",
      "\n",
      "\n"
     ]
    }
   ],
   "source": [
    "from bs4 import BeautifulSoup\n",
    "from selenium import webdriver\n",
    "import time\n",
    "from selenium.webdriver.common.keys import Keys\n",
    "query_txt = input('크롤링할 키워드는 무엇입니까?')\n",
    "path = 'chromedriver.exe'\n",
    "driver = webdriver.Chrome(path)\n",
    "driver.maximize_window()\n",
    "driver.get('https://korean.visitkorea.or.kr/main/main.html')\n",
    "time.sleep(1)\n",
    "#driver.find_element_by_id('openSearchFormInput').click()\n",
    "element = driver.find_element_by_id('inp_search')\n",
    "element.send_keys(query_txt)\n",
    "element.send_keys(Keys.RETURN)\n",
    "\n",
    "time.sleep(2)\n",
    "ul = driver.find_element_by_class_name('list_thumType')\n",
    "content_list = driver.find_element_by_class_name('list_thumType')\n",
    "content_list = content_list.find_elements_by_css_selector('li')\n",
    "for i in content_list:\n",
    "    print(i.text.strip())\n",
    "    print(\"\\n\")\n",
    "\n"
   ]
  },
  {
   "cell_type": "code",
   "execution_count": 12,
   "metadata": {},
   "outputs": [
    {
     "name": "stdout",
     "output_type": "stream",
     "text": [
      "크롤링할 키워드는 무엇입니까?봄여행\n",
      "봄의 유혹, 유채와 튤립을 가슴에 담다\n",
      "'경남 남해 봄꽃 여행' 경상남도 남해군 #봄꽃여행#봄꽃열전#봄꽃축제\n",
      "------------\n",
      "국내 당일치기 여행, 진천 봄나들이 추천 명소 충청북도 진천군 #진천여행#진천가볼만한곳#한반도지형전망공원#한반도지형#농다리#진천농다리#미르숲#농암정#길상사#봄여행지#봄여행지추천\n",
      "------------\n",
      "세계자연유산(UNESCO)의 봄을 느끼며, 제주도 동부 여행 제주도 #장애인추천코스#제주가볼만한곳#제주당일코스#제주민속촌#제주올레길#제주해녀박물관#김녕어울림센터#월정리해변#제주돌문화공원#절물자연휴양림#메이즈랜드#두맹이골목#제주1박2일코스\n",
      "------------\n",
      "할 일 다 제쳐두고 떠나고 싶은 '제천' 봄 여행지 5! 충청북도 제천시 #제천여행#제천가볼만한곳#봄여행#3월가볼만한곳#박정우염색갤러리#의림지#의림지역사박물관#청풍호반케이블카#시네마360#청풍문화재단지#솔티맥주#미리봄_여행지\n",
      "------------\n",
      "[강원] 강원도 '다시 봄!' - 봄 여행에 어울리는 강원도 숙소 모음 강원도 #한국관광품질인증#여행기사#추천숙박#파로호한옥펜션#강릉오죽한옥마을#호텔탑스빌#피카소호텔#화천#강릉#동해#바다#강원숙소#인증숙소#우수숙소#봄!_가족과_함께\n",
      "------------\n"
     ]
    },
    {
     "ename": "StaleElementReferenceException",
     "evalue": "Message: stale element reference: element is not attached to the page document\n  (Session info: chrome=91.0.4472.124)\n",
     "output_type": "error",
     "traceback": [
      "\u001b[1;31m---------------------------------------------------------------------------\u001b[0m",
      "\u001b[1;31mStaleElementReferenceException\u001b[0m            Traceback (most recent call last)",
      "\u001b[1;32m<ipython-input-12-1d3d2bac9aa3>\u001b[0m in \u001b[0;36m<module>\u001b[1;34m\u001b[0m\n\u001b[0;32m     20\u001b[0m \u001b[1;32mfor\u001b[0m \u001b[0mi\u001b[0m \u001b[1;32min\u001b[0m \u001b[0mcontent_list\u001b[0m\u001b[1;33m:\u001b[0m\u001b[1;33m\u001b[0m\u001b[1;33m\u001b[0m\u001b[0m\n\u001b[0;32m     21\u001b[0m     \u001b[0mtit\u001b[0m \u001b[1;33m=\u001b[0m \u001b[0mi\u001b[0m\u001b[1;33m.\u001b[0m\u001b[0mfind_element_by_class_name\u001b[0m\u001b[1;33m(\u001b[0m\u001b[1;34m'tit'\u001b[0m\u001b[1;33m)\u001b[0m\u001b[1;33m.\u001b[0m\u001b[0mtext\u001b[0m\u001b[1;33m\u001b[0m\u001b[1;33m\u001b[0m\u001b[0m\n\u001b[1;32m---> 22\u001b[1;33m     \u001b[0mservice\u001b[0m \u001b[1;33m=\u001b[0m \u001b[0mi\u001b[0m\u001b[1;33m.\u001b[0m\u001b[0mfind_element_by_class_name\u001b[0m\u001b[1;33m(\u001b[0m\u001b[1;34m'service'\u001b[0m\u001b[1;33m)\u001b[0m\u001b[1;33m.\u001b[0m\u001b[0mtext\u001b[0m\u001b[1;33m\u001b[0m\u001b[1;33m\u001b[0m\u001b[0m\n\u001b[0m\u001b[0;32m     23\u001b[0m     \u001b[0mtag\u001b[0m \u001b[1;33m=\u001b[0m \u001b[0mi\u001b[0m\u001b[1;33m.\u001b[0m\u001b[0mfind_element_by_class_name\u001b[0m\u001b[1;33m(\u001b[0m\u001b[1;34m'tag_type'\u001b[0m\u001b[1;33m)\u001b[0m\u001b[1;33m.\u001b[0m\u001b[0mtext\u001b[0m\u001b[1;33m\u001b[0m\u001b[1;33m\u001b[0m\u001b[0m\n\u001b[0;32m     24\u001b[0m     \u001b[0mprint\u001b[0m\u001b[1;33m(\u001b[0m\u001b[0mtit\u001b[0m\u001b[1;33m,\u001b[0m \u001b[0mservice\u001b[0m\u001b[1;33m,\u001b[0m \u001b[0mtag\u001b[0m\u001b[1;33m)\u001b[0m\u001b[1;33m\u001b[0m\u001b[1;33m\u001b[0m\u001b[0m\n",
      "\u001b[1;32mD:\\Anaconda3\\lib\\site-packages\\selenium\\webdriver\\remote\\webelement.py\u001b[0m in \u001b[0;36mtext\u001b[1;34m(self)\u001b[0m\n\u001b[0;32m     74\u001b[0m     \u001b[1;32mdef\u001b[0m \u001b[0mtext\u001b[0m\u001b[1;33m(\u001b[0m\u001b[0mself\u001b[0m\u001b[1;33m)\u001b[0m\u001b[1;33m:\u001b[0m\u001b[1;33m\u001b[0m\u001b[1;33m\u001b[0m\u001b[0m\n\u001b[0;32m     75\u001b[0m         \u001b[1;34m\"\"\"The text of the element.\"\"\"\u001b[0m\u001b[1;33m\u001b[0m\u001b[1;33m\u001b[0m\u001b[0m\n\u001b[1;32m---> 76\u001b[1;33m         \u001b[1;32mreturn\u001b[0m \u001b[0mself\u001b[0m\u001b[1;33m.\u001b[0m\u001b[0m_execute\u001b[0m\u001b[1;33m(\u001b[0m\u001b[0mCommand\u001b[0m\u001b[1;33m.\u001b[0m\u001b[0mGET_ELEMENT_TEXT\u001b[0m\u001b[1;33m)\u001b[0m\u001b[1;33m[\u001b[0m\u001b[1;34m'value'\u001b[0m\u001b[1;33m]\u001b[0m\u001b[1;33m\u001b[0m\u001b[1;33m\u001b[0m\u001b[0m\n\u001b[0m\u001b[0;32m     77\u001b[0m \u001b[1;33m\u001b[0m\u001b[0m\n\u001b[0;32m     78\u001b[0m     \u001b[1;32mdef\u001b[0m \u001b[0mclick\u001b[0m\u001b[1;33m(\u001b[0m\u001b[0mself\u001b[0m\u001b[1;33m)\u001b[0m\u001b[1;33m:\u001b[0m\u001b[1;33m\u001b[0m\u001b[1;33m\u001b[0m\u001b[0m\n",
      "\u001b[1;32mD:\\Anaconda3\\lib\\site-packages\\selenium\\webdriver\\remote\\webelement.py\u001b[0m in \u001b[0;36m_execute\u001b[1;34m(self, command, params)\u001b[0m\n\u001b[0;32m    631\u001b[0m             \u001b[0mparams\u001b[0m \u001b[1;33m=\u001b[0m \u001b[1;33m{\u001b[0m\u001b[1;33m}\u001b[0m\u001b[1;33m\u001b[0m\u001b[1;33m\u001b[0m\u001b[0m\n\u001b[0;32m    632\u001b[0m         \u001b[0mparams\u001b[0m\u001b[1;33m[\u001b[0m\u001b[1;34m'id'\u001b[0m\u001b[1;33m]\u001b[0m \u001b[1;33m=\u001b[0m \u001b[0mself\u001b[0m\u001b[1;33m.\u001b[0m\u001b[0m_id\u001b[0m\u001b[1;33m\u001b[0m\u001b[1;33m\u001b[0m\u001b[0m\n\u001b[1;32m--> 633\u001b[1;33m         \u001b[1;32mreturn\u001b[0m \u001b[0mself\u001b[0m\u001b[1;33m.\u001b[0m\u001b[0m_parent\u001b[0m\u001b[1;33m.\u001b[0m\u001b[0mexecute\u001b[0m\u001b[1;33m(\u001b[0m\u001b[0mcommand\u001b[0m\u001b[1;33m,\u001b[0m \u001b[0mparams\u001b[0m\u001b[1;33m)\u001b[0m\u001b[1;33m\u001b[0m\u001b[1;33m\u001b[0m\u001b[0m\n\u001b[0m\u001b[0;32m    634\u001b[0m \u001b[1;33m\u001b[0m\u001b[0m\n\u001b[0;32m    635\u001b[0m     \u001b[1;32mdef\u001b[0m \u001b[0mfind_element\u001b[0m\u001b[1;33m(\u001b[0m\u001b[0mself\u001b[0m\u001b[1;33m,\u001b[0m \u001b[0mby\u001b[0m\u001b[1;33m=\u001b[0m\u001b[0mBy\u001b[0m\u001b[1;33m.\u001b[0m\u001b[0mID\u001b[0m\u001b[1;33m,\u001b[0m \u001b[0mvalue\u001b[0m\u001b[1;33m=\u001b[0m\u001b[1;32mNone\u001b[0m\u001b[1;33m)\u001b[0m\u001b[1;33m:\u001b[0m\u001b[1;33m\u001b[0m\u001b[1;33m\u001b[0m\u001b[0m\n",
      "\u001b[1;32mD:\\Anaconda3\\lib\\site-packages\\selenium\\webdriver\\remote\\webdriver.py\u001b[0m in \u001b[0;36mexecute\u001b[1;34m(self, driver_command, params)\u001b[0m\n\u001b[0;32m    319\u001b[0m         \u001b[0mresponse\u001b[0m \u001b[1;33m=\u001b[0m \u001b[0mself\u001b[0m\u001b[1;33m.\u001b[0m\u001b[0mcommand_executor\u001b[0m\u001b[1;33m.\u001b[0m\u001b[0mexecute\u001b[0m\u001b[1;33m(\u001b[0m\u001b[0mdriver_command\u001b[0m\u001b[1;33m,\u001b[0m \u001b[0mparams\u001b[0m\u001b[1;33m)\u001b[0m\u001b[1;33m\u001b[0m\u001b[1;33m\u001b[0m\u001b[0m\n\u001b[0;32m    320\u001b[0m         \u001b[1;32mif\u001b[0m \u001b[0mresponse\u001b[0m\u001b[1;33m:\u001b[0m\u001b[1;33m\u001b[0m\u001b[1;33m\u001b[0m\u001b[0m\n\u001b[1;32m--> 321\u001b[1;33m             \u001b[0mself\u001b[0m\u001b[1;33m.\u001b[0m\u001b[0merror_handler\u001b[0m\u001b[1;33m.\u001b[0m\u001b[0mcheck_response\u001b[0m\u001b[1;33m(\u001b[0m\u001b[0mresponse\u001b[0m\u001b[1;33m)\u001b[0m\u001b[1;33m\u001b[0m\u001b[1;33m\u001b[0m\u001b[0m\n\u001b[0m\u001b[0;32m    322\u001b[0m             response['value'] = self._unwrap_value(\n\u001b[0;32m    323\u001b[0m                 response.get('value', None))\n",
      "\u001b[1;32mD:\\Anaconda3\\lib\\site-packages\\selenium\\webdriver\\remote\\errorhandler.py\u001b[0m in \u001b[0;36mcheck_response\u001b[1;34m(self, response)\u001b[0m\n\u001b[0;32m    240\u001b[0m                 \u001b[0malert_text\u001b[0m \u001b[1;33m=\u001b[0m \u001b[0mvalue\u001b[0m\u001b[1;33m[\u001b[0m\u001b[1;34m'alert'\u001b[0m\u001b[1;33m]\u001b[0m\u001b[1;33m.\u001b[0m\u001b[0mget\u001b[0m\u001b[1;33m(\u001b[0m\u001b[1;34m'text'\u001b[0m\u001b[1;33m)\u001b[0m\u001b[1;33m\u001b[0m\u001b[1;33m\u001b[0m\u001b[0m\n\u001b[0;32m    241\u001b[0m             \u001b[1;32mraise\u001b[0m \u001b[0mexception_class\u001b[0m\u001b[1;33m(\u001b[0m\u001b[0mmessage\u001b[0m\u001b[1;33m,\u001b[0m \u001b[0mscreen\u001b[0m\u001b[1;33m,\u001b[0m \u001b[0mstacktrace\u001b[0m\u001b[1;33m,\u001b[0m \u001b[0malert_text\u001b[0m\u001b[1;33m)\u001b[0m\u001b[1;33m\u001b[0m\u001b[1;33m\u001b[0m\u001b[0m\n\u001b[1;32m--> 242\u001b[1;33m         \u001b[1;32mraise\u001b[0m \u001b[0mexception_class\u001b[0m\u001b[1;33m(\u001b[0m\u001b[0mmessage\u001b[0m\u001b[1;33m,\u001b[0m \u001b[0mscreen\u001b[0m\u001b[1;33m,\u001b[0m \u001b[0mstacktrace\u001b[0m\u001b[1;33m)\u001b[0m\u001b[1;33m\u001b[0m\u001b[1;33m\u001b[0m\u001b[0m\n\u001b[0m\u001b[0;32m    243\u001b[0m \u001b[1;33m\u001b[0m\u001b[0m\n\u001b[0;32m    244\u001b[0m     \u001b[1;32mdef\u001b[0m \u001b[0m_value_or_default\u001b[0m\u001b[1;33m(\u001b[0m\u001b[0mself\u001b[0m\u001b[1;33m,\u001b[0m \u001b[0mobj\u001b[0m\u001b[1;33m,\u001b[0m \u001b[0mkey\u001b[0m\u001b[1;33m,\u001b[0m \u001b[0mdefault\u001b[0m\u001b[1;33m)\u001b[0m\u001b[1;33m:\u001b[0m\u001b[1;33m\u001b[0m\u001b[1;33m\u001b[0m\u001b[0m\n",
      "\u001b[1;31mStaleElementReferenceException\u001b[0m: Message: stale element reference: element is not attached to the page document\n  (Session info: chrome=91.0.4472.124)\n"
     ]
    }
   ],
   "source": [
    "from bs4 import BeautifulSoup\n",
    "from selenium import webdriver\n",
    "import time\n",
    "from selenium.webdriver.common.keys import Keys\n",
    "query_txt = input('크롤링할 키워드는 무엇입니까?')\n",
    "path = 'chromedriver.exe'\n",
    "driver = webdriver.Chrome(path)\n",
    "driver.maximize_window()\n",
    "driver.get('https://korean.visitkorea.or.kr/main/main.html')\n",
    "time.sleep(1)\n",
    "#driver.find_element_by_id('openSearchFormInput').click()\n",
    "element = driver.find_element_by_id('inp_search')\n",
    "element.send_keys(query_txt)\n",
    "element.send_keys(Keys.RETURN)\n",
    "\n",
    "time.sleep(2)\n",
    "ul = driver.find_element_by_class_name('list_thumType')\n",
    "content_list = driver.find_element_by_class_name('list_thumType')\n",
    "content_list = content_list.find_elements_by_css_selector('li > div.area_txt')\n",
    "for i in content_list:\n",
    "    tit = i.find_element_by_class_name('tit').text\n",
    "    service = i.find_element_by_class_name('service').text\n",
    "    tag = i.find_element_by_class_name('tag_type').text\n",
    "    print(tit, service, tag)\n",
    "    print('------------')"
   ]
  },
  {
   "cell_type": "code",
   "execution_count": 14,
   "metadata": {},
   "outputs": [
    {
     "name": "stdout",
     "output_type": "stream",
     "text": [
      "크롤링할 키워드는 무엇입니까?봄여행\n",
      "    service                                                tag  \\\n",
      "0  경상남도 남해군                                    #봄꽃여행#봄꽃열전#봄꽃축제   \n",
      "1  충청북도 진천군  #진천여행#진천가볼만한곳#한반도지형전망공원#한반도지형#농다리#진천농다리#미르숲#농암...   \n",
      "2       제주도  #장애인추천코스#제주가볼만한곳#제주당일코스#제주민속촌#제주올레길#제주해녀박물관#김녕...   \n",
      "3  충청북도 제천시  #제천여행#제천가볼만한곳#봄여행#3월가볼만한곳#박정우염색갤러리#의림지#의림지역사박물...   \n",
      "4       강원도  #한국관광품질인증#여행기사#추천숙박#파로호한옥펜션#강릉오죽한옥마을#호텔탑스빌#피카소...   \n",
      "5  경상남도 사천시  #사천여행#사천여행코스#사천가볼만한곳#봄여행#수양공원#사천읍성#포담#실안해안도로#삼...   \n",
      "6  경상북도 포항시  #트레킹#내연산계곡#보경사#경상북도수목원#연산폭포#관음폭포#기청산식물원#사방기념공원...   \n",
      "7        서울  #서울가볼만한곳#아이와함께#친구와함께#연인과함께#봄에가볼만한곳#충무로역#오재미동#영...   \n",
      "8  경상남도 거제시  #거제맛집#거제여행#거제가볼만한곳#통영여행#통영가볼만한곳#통영맛집#통영루지#봄산책#...   \n",
      "9  전라남도 구례군           #당일코스#1박2일#2박3일#추천코스#가족코스#힐링코스#자연코스#봄여행지   \n",
      "\n",
      "                                               title  \n",
      "0               봄의 유혹, 유채와 튤립을 가슴에 담다\\n'경남 남해 봄꽃 여행'  \n",
      "1                          국내 당일치기 여행, 진천 봄나들이 추천 명소  \n",
      "2                  세계자연유산(UNESCO)의 봄을 느끼며, 제주도 동부 여행  \n",
      "3                    할 일 다 제쳐두고 떠나고 싶은 '제천' 봄 여행지 5!  \n",
      "4            [강원] 강원도 '다시 봄!' - 봄 여행에 어울리는 강원도 숙소 모음  \n",
      "5                         아침부터 밤까지, 봄 냄새 가득한 '사천' 여행  \n",
      "6                    걷고, 먹고, 즐기고··· 포항으로 떠나는 봄 별미 여행  \n",
      "7              마음을 나누는 엄마 딸 여행, 서울 남산 주변과 한강 물길 봄나들이  \n",
      "8  거제&통영 여행 꿀팁. 깨알 팁 다수 포함! 봄 산책하기 좋은 1박2일 거제&통영 ...  \n",
      "9                                노란 산수유꽃 가득한 포근한 봄여행  \n"
     ]
    }
   ],
   "source": [
    "from bs4 import BeautifulSoup\n",
    "from selenium import webdriver\n",
    "import time\n",
    "from selenium.webdriver.common.keys import Keys\n",
    "import pandas as pd\n",
    "\n",
    "query_txt = input('크롤링할 키워드는 무엇입니까?')\n",
    "path = 'chromedriver.exe'\n",
    "driver = webdriver.Chrome(path)\n",
    "driver.maximize_window()\n",
    "driver.get('https://korean.visitkorea.or.kr/main/main.html')\n",
    "time.sleep(1)\n",
    "#driver.find_element_by_id('openSearchFormInput').click()\n",
    "element = driver.find_element_by_id('inp_search')\n",
    "element.send_keys(query_txt)\n",
    "element.send_keys(Keys.RETURN)\n",
    "\n",
    "time.sleep(2)\n",
    "ul = driver.find_element_by_class_name('list_thumType')\n",
    "content_list = driver.find_element_by_class_name('list_thumType')\n",
    "content_list = content_list.find_elements_by_css_selector('li > div.area_txt')\n",
    "data_list = []\n",
    "for i in content_list:\n",
    "    try:\n",
    "        tit = i.find_element_by_class_name('tit').text\n",
    "        service = i.find_element_by_class_name('service').text\n",
    "        tag = i.find_element_by_class_name('tag_type').text\n",
    "        data = {'title':tit, \"service\":service, \"tag\": tag}\n",
    "        data_list.append(data)\n",
    "    except:\n",
    "        pass\n",
    "    \n",
    "df = pd.DataFrame(data_list)\n",
    "print(df)\n",
    "df.to_csv('여행지.csv', encoding='euc-kr')\n",
    "    "
   ]
  },
  {
   "cell_type": "code",
   "execution_count": 30,
   "metadata": {
    "scrolled": false
   },
   "outputs": [
    {
     "name": "stdout",
     "output_type": "stream",
     "text": [
      "크롤링할 키워드는 무엇입니까?봄여행\n",
      "성공\n"
     ]
    }
   ],
   "source": [
    "from bs4 import BeautifulSoup\n",
    "from selenium import webdriver\n",
    "import time\n",
    "from selenium.webdriver.common.keys import Keys\n",
    "import pandas as pd\n",
    "from selenium.webdriver.support.ui import WebDriverWait\n",
    "from selenium.webdriver.support import expected_conditions as EC\n",
    "from selenium.webdriver.common.by import By\n",
    "from selenium.common.exceptions import TimeoutException\n",
    "\n",
    "query_txt = input('크롤링할 키워드는 무엇입니까?')\n",
    "path = 'chromedriver.exe'\n",
    "driver = webdriver.Chrome(path)\n",
    "driver.maximize_window()\n",
    "driver.get('https://korean.visitkorea.or.kr/main/main.html')\n",
    "time.sleep(1)\n",
    "#driver.find_element_by_id('openSearchFormInput').click()\n",
    "element = driver.find_element_by_id('inp_search')\n",
    "element.send_keys(query_txt)\n",
    "element.send_keys(Keys.RETURN)\n",
    "delay=10\n",
    "data_list=[]\n",
    "try:\n",
    "    wait = WebDriverWait(driver, delay).until(EC.presence_of_element_located((By.CLASS_NAME, 'btn_last')))\n",
    "    page_box = driver.find_element_by_id('page_box')\n",
    "    last_page = page_box.find_element_by_class_name('btn_last').get_attribute(\"id\")\n",
    "    last_page = int(last_page)\n",
    "    for num in range(2,10):\n",
    "        time.sleep(1)\n",
    "        wait = WebDriverWait(driver, delay).until(EC.presence_of_element_located((By.CLASS_NAME, 'btn_last')))\n",
    "        \n",
    "        ul = driver.find_element_by_class_name('list_thumType')\n",
    "        content_list = driver.find_element_by_class_name('list_thumType')\n",
    "        content_list = content_list.find_elements_by_css_selector('li > div.area_txt')\n",
    "        for i in content_list:\n",
    "            try:\n",
    "                tit = i.find_element_by_class_name('tit').text\n",
    "                service = i.find_element_by_class_name('service').text\n",
    "                try:\n",
    "                    tag = i.find_element_by_class_name('tag_type').text\n",
    "                except:\n",
    "                    tag = \"\"\n",
    "                data = {'title':tit, \"service\":service, \"tag\": tag}\n",
    "                data_list.append(data)\n",
    "            except Exception as e:\n",
    "                print(e)\n",
    "                \n",
    "        page_box.find_element_by_id(num).click()\n",
    "        \n",
    "    df = pd.DataFrame(data_list)\n",
    "    print(\"성공\")\n",
    "    df.to_csv('여행지.csv', encoding='euc-kr')\n",
    "except TimeoutException:\n",
    "    print(\"Timeout\")"
   ]
  },
  {
   "cell_type": "code",
   "execution_count": 2,
   "metadata": {},
   "outputs": [
    {
     "name": "stdout",
     "output_type": "stream",
     "text": [
      "크롤링할 키워드는 무엇입니까?봄여행\n",
      "[\"javascript:goSearchDetail('5d063ecc-ff86-4b7e-8ad8-85ce5ae9008c');\", \"javascript:goSearchDetail('da03d388-37b6-47c6-b6a7-a41d35e7d905');\", \"javascript:goSearchDetail('295c1f7d-b11a-4880-8b04-7f3fb15379a2');\", \"javascript:goSearchDetail('3a45964b-3466-4016-a220-b0c76233e906');\", \"javascript:goSearchDetail('ae10aa9d-1f9a-40e4-9c16-40e489ce1d97');\", \"javascript:goSearchDetail('1211a414-7157-485f-b92f-72d902227263');\", \"javascript:goSearchDetail('3c1a0943-222c-4c05-8c96-aff576753602');\", \"javascript:goSearchDetail('3ee1e7b6-ae3c-4e18-86b8-4c573e6a73bd');\", \"javascript:goSearchDetail('11a7d910-221d-43ae-9b19-a612b21c3e86');\", \"javascript:goSearchDetail('47ea8384-b1c1-43b9-881e-6a9a0c1b4f07');\", \"javascript:goSearchDetail('98dddf4d-2fd7-4db8-adc2-3a45fcfd88b7');\", \"javascript:goSearchDetail('13c63e5d-cc5c-4b35-939f-905c9ec2a3b2');\", \"javascript:goSearchDetail('5bdee712-f484-4d63-80a7-0a2df70afc1b');\", \"javascript:goSearchDetail('7765dc87-c1ba-4899-9a6b-c4fcc009d524');\", \"javascript:goSearchDetail('32709444-4880-4085-9ad8-6f0f7cc3b3d2');\", \"javascript:goSearchDetail('f50715b4-0967-41db-b6c3-ae15cfd0bffb');\", \"javascript:goSearchDetail('d7008509-e8e9-48b7-9510-596c3c24cfea');\", \"javascript:goSearchDetail('eb7977d5-9662-4481-a5ad-f97eb6281ba2');\", \"javascript:goSearchDetail('4b8ffe26-00b4-4a64-ab9d-09037fbce8fe');\", \"javascript:goSearchDetail('c7346f73-c61c-4608-a70e-393f5a1802b7');\"]\n"
     ]
    }
   ],
   "source": [
    "from bs4 import BeautifulSoup\n",
    "from selenium import webdriver\n",
    "import time\n",
    "from selenium.webdriver.common.keys import Keys\n",
    "import pandas as pd\n",
    "from selenium.webdriver.support.ui import WebDriverWait\n",
    "from selenium.webdriver.support import expected_conditions as EC\n",
    "from selenium.webdriver.common.by import By\n",
    "from selenium.common.exceptions import TimeoutException\n",
    "\n",
    "query_txt = input('크롤링할 키워드는 무엇입니까?')\n",
    "path = 'chromedriver.exe'\n",
    "driver = webdriver.Chrome(path)\n",
    "driver.maximize_window()\n",
    "driver.get('https://korean.visitkorea.or.kr/main/main.html')\n",
    "time.sleep(1)\n",
    "#driver.find_element_by_id('openSearchFormInput').click()\n",
    "element = driver.find_element_by_id('inp_search')\n",
    "element.send_keys(query_txt)\n",
    "element.send_keys(Keys.RETURN)\n",
    "delay=10\n",
    "url_list=[]\n",
    "try:\n",
    "    wait = WebDriverWait(driver, delay).until(EC.presence_of_element_located((By.CLASS_NAME, 'btn_last')))\n",
    "    page_box = driver.find_element_by_id('page_box')\n",
    "    last_page = page_box.find_element_by_class_name('btn_last').get_attribute(\"id\")\n",
    "    last_page = int(last_page)\n",
    "    for num in range(2,4):\n",
    "        time.sleep(1)\n",
    "        wait = WebDriverWait(driver, delay).until(EC.presence_of_element_located((By.CLASS_NAME, 'btn_last')))\n",
    "        \n",
    "        ul = driver.find_element_by_class_name('list_thumType')\n",
    "        content_list = driver.find_element_by_class_name('list_thumType')\n",
    "        content_list = content_list.find_elements_by_css_selector('li > div.area_txt')\n",
    "        for i in content_list:\n",
    "            try:\n",
    "                href = i.find_element_by_class_name('tit').find_element_by_css_selector('a').get_attribute('href')\n",
    "                url_list.append(href)    \n",
    "                \n",
    "            except Exception as e:\n",
    "                print(e)\n",
    "                \n",
    "        page_box.find_element_by_id(num).click()\n",
    "        \n",
    "    for url in url_list:\n",
    "        url = url.split('\\'')[1]\n",
    "        base_url='https://korean.visitkorea.or.kr/detail/rem_detail.do?cotid='\n",
    "        final_url = base_url + url\n",
    "        \n",
    "        \n",
    "        \n",
    "except TimeoutException:\n",
    "    print(\"Timeout\")"
   ]
  },
  {
   "cell_type": "code",
   "execution_count": 10,
   "metadata": {},
   "outputs": [
    {
     "name": "stdout",
     "output_type": "stream",
     "text": [
      "봄의 유혹, 유채와 튤립을 가슴에 담다\n",
      "‘경남 남해 봄꽃 여행’\n",
      "경남 남해군\n",
      "수정일 : 2021.03.23\n"
     ]
    }
   ],
   "source": [
    "from bs4 import BeautifulSoup\n",
    "from selenium import webdriver\n",
    "import time\n",
    "from selenium.webdriver.common.keys import Keys\n",
    "import pandas as pd\n",
    "from selenium.webdriver.support.ui import WebDriverWait\n",
    "from selenium.webdriver.support import expected_conditions as EC\n",
    "from selenium.webdriver.common.by import By\n",
    "from selenium.common.exceptions import TimeoutException\n",
    "driver = webdriver.Chrome(path)\n",
    "driver.maximize_window()\n",
    "driver.get('https://korean.visitkorea.or.kr/detail/rem_detail.do?cotid=5d063ecc-ff86-4b7e-8ad8-85ce5ae9008c')\n",
    "\n",
    "\n",
    "title = ''\n",
    "location = ''\n",
    "date = ''\n",
    "heart = ''\n",
    "share = ''\n",
    "view = ''\n",
    "content = ''\n",
    "food = ''\n",
    "house = ''\n",
    "editor = ''\n",
    "\n",
    "title = driver.find_element_by_id('topTitle').text\n",
    "topAddr = driver.find_element_by_id('topAddr').text\n",
    "addr = topAddr.split('\\n')[0]\n",
    "date = topAddr.split('\\n')[1].split(':')[1].strip()"
   ]
  },
  {
   "cell_type": "code",
   "execution_count": 15,
   "metadata": {},
   "outputs": [
    {
     "name": "stdout",
     "output_type": "stream",
     "text": [
      "경남 남해군\n",
      "2021.03.23\n"
     ]
    }
   ],
   "source": [
    "addr = topAddr.split('\\n')[0]\n",
    "date = topAddr.split('\\n')[1].split(':')[1].strip()\n",
    "print(addr)\n",
    "print(date)"
   ]
  },
  {
   "cell_type": "code",
   "execution_count": 18,
   "metadata": {},
   "outputs": [
    {
     "name": "stdout",
     "output_type": "stream",
     "text": [
      "크롤링할 키워드는 무엇입니까?봄여행\n"
     ]
    },
    {
     "ename": "IndexError",
     "evalue": "list index out of range",
     "output_type": "error",
     "traceback": [
      "\u001b[1;31m---------------------------------------------------------------------------\u001b[0m",
      "\u001b[1;31mIndexError\u001b[0m                                Traceback (most recent call last)",
      "\u001b[1;32m<ipython-input-18-459531dbc4b8>\u001b[0m in \u001b[0;36m<module>\u001b[1;34m\u001b[0m\n\u001b[0;32m     62\u001b[0m             \u001b[0mcontent\u001b[0m \u001b[1;33m=\u001b[0m \u001b[0mcontent_full\u001b[0m\u001b[1;33m.\u001b[0m\u001b[0msplit\u001b[0m\u001b[1;33m(\u001b[0m\u001b[1;34m'글, 사진 : '\u001b[0m\u001b[1;33m)\u001b[0m\u001b[1;33m[\u001b[0m\u001b[1;36m0\u001b[0m\u001b[1;33m]\u001b[0m\u001b[1;33m\u001b[0m\u001b[1;33m\u001b[0m\u001b[0m\n\u001b[1;32m---> 63\u001b[1;33m             \u001b[0meditor\u001b[0m \u001b[1;33m=\u001b[0m \u001b[0mcontent_full\u001b[0m\u001b[1;33m.\u001b[0m\u001b[0msplit\u001b[0m\u001b[1;33m(\u001b[0m\u001b[1;34m'글, 사진 : '\u001b[0m\u001b[1;33m)\u001b[0m\u001b[1;33m[\u001b[0m\u001b[1;36m1\u001b[0m\u001b[1;33m]\u001b[0m\u001b[1;33m.\u001b[0m\u001b[0msplit\u001b[0m\u001b[1;33m(\u001b[0m\u001b[1;34m'\\n※'\u001b[0m\u001b[1;33m)\u001b[0m\u001b[1;33m[\u001b[0m\u001b[1;36m0\u001b[0m\u001b[1;33m]\u001b[0m\u001b[1;33m\u001b[0m\u001b[1;33m\u001b[0m\u001b[0m\n\u001b[0m\u001b[0;32m     64\u001b[0m         \u001b[1;32mexcept\u001b[0m\u001b[1;33m:\u001b[0m\u001b[1;33m\u001b[0m\u001b[1;33m\u001b[0m\u001b[0m\n",
      "\u001b[1;31mIndexError\u001b[0m: list index out of range",
      "\nDuring handling of the above exception, another exception occurred:\n",
      "\u001b[1;31mIndexError\u001b[0m                                Traceback (most recent call last)",
      "\u001b[1;32m<ipython-input-18-459531dbc4b8>\u001b[0m in \u001b[0;36m<module>\u001b[1;34m\u001b[0m\n\u001b[0;32m     64\u001b[0m         \u001b[1;32mexcept\u001b[0m\u001b[1;33m:\u001b[0m\u001b[1;33m\u001b[0m\u001b[1;33m\u001b[0m\u001b[0m\n\u001b[0;32m     65\u001b[0m             \u001b[0mcontent\u001b[0m \u001b[1;33m=\u001b[0m \u001b[0mcontent_full\u001b[0m\u001b[1;33m.\u001b[0m\u001b[0msplit\u001b[0m\u001b[1;33m(\u001b[0m\u001b[1;34m'글 : '\u001b[0m\u001b[1;33m)\u001b[0m\u001b[1;33m[\u001b[0m\u001b[1;36m0\u001b[0m\u001b[1;33m]\u001b[0m\u001b[1;33m\u001b[0m\u001b[1;33m\u001b[0m\u001b[0m\n\u001b[1;32m---> 66\u001b[1;33m             \u001b[0meditor\u001b[0m \u001b[1;33m=\u001b[0m \u001b[0mcontent_full\u001b[0m\u001b[1;33m.\u001b[0m\u001b[0msplit\u001b[0m\u001b[1;33m(\u001b[0m\u001b[1;34m'글 : '\u001b[0m\u001b[1;33m)\u001b[0m\u001b[1;33m[\u001b[0m\u001b[1;36m1\u001b[0m\u001b[1;33m]\u001b[0m\u001b[1;33m.\u001b[0m\u001b[0msplit\u001b[0m\u001b[1;33m(\u001b[0m\u001b[1;34m'\\n※'\u001b[0m\u001b[1;33m)\u001b[0m\u001b[1;33m[\u001b[0m\u001b[1;36m0\u001b[0m\u001b[1;33m]\u001b[0m\u001b[1;33m\u001b[0m\u001b[1;33m\u001b[0m\u001b[0m\n\u001b[0m\u001b[0;32m     67\u001b[0m \u001b[1;33m\u001b[0m\u001b[0m\n\u001b[0;32m     68\u001b[0m         data = {'title' : title, 'addr': addr, \n",
      "\u001b[1;31mIndexError\u001b[0m: list index out of range"
     ]
    }
   ],
   "source": [
    "from bs4 import BeautifulSoup\n",
    "from selenium import webdriver\n",
    "import time\n",
    "from selenium.webdriver.common.keys import Keys\n",
    "import pandas as pd\n",
    "from selenium.webdriver.support.ui import WebDriverWait\n",
    "from selenium.webdriver.support import expected_conditions as EC\n",
    "from selenium.webdriver.common.by import By\n",
    "from selenium.common.exceptions import TimeoutException\n",
    "\n",
    "query_txt = input('크롤링할 키워드는 무엇입니까?')\n",
    "path = 'chromedriver.exe'\n",
    "driver = webdriver.Chrome(path)\n",
    "driver.maximize_window()\n",
    "driver.get('https://korean.visitkorea.or.kr/main/main.html')\n",
    "time.sleep(1)\n",
    "#driver.find_element_by_id('openSearchFormInput').click()\n",
    "element = driver.find_element_by_id('inp_search')\n",
    "element.send_keys(query_txt)\n",
    "element.send_keys(Keys.RETURN)\n",
    "delay=10\n",
    "url_list=[]\n",
    "try:\n",
    "    wait = WebDriverWait(driver, delay).until(EC.presence_of_element_located((By.CLASS_NAME, 'btn_last')))\n",
    "    page_box = driver.find_element_by_id('page_box')\n",
    "    last_page = page_box.find_element_by_class_name('btn_last').get_attribute(\"id\")\n",
    "    last_page = int(last_page)\n",
    "    for num in range(2,4):\n",
    "        time.sleep(1)\n",
    "        wait = WebDriverWait(driver, delay).until(EC.presence_of_element_located((By.CLASS_NAME, 'btn_last')))\n",
    "        \n",
    "        ul = driver.find_element_by_class_name('list_thumType')\n",
    "        content_list = driver.find_element_by_class_name('list_thumType')\n",
    "        content_list = content_list.find_elements_by_css_selector('li > div.area_txt')\n",
    "        for i in content_list:\n",
    "            try:\n",
    "                href = i.find_element_by_class_name('tit').find_element_by_css_selector('a').get_attribute('href')\n",
    "                url_list.append(href)    \n",
    "                \n",
    "            except Exception as e:\n",
    "                print(e)\n",
    "                \n",
    "        page_box.find_element_by_id(num).click()\n",
    "    \n",
    "    content_list = []\n",
    "    for url in url_list:\n",
    "        url = url.split('\\'')[1]\n",
    "        base_url='https://korean.visitkorea.or.kr/detail/rem_detail.do?cotid='\n",
    "        final_url = base_url + url\n",
    "        driver.get(final_url)\n",
    "        time.sleep(2)\n",
    "\n",
    "        title = driver.find_element_by_id('topTitle').text\n",
    "        topAddr = driver.find_element_by_id('topAddr').text\n",
    "        addr = topAddr.split('\\n')[0]\n",
    "        date = topAddr.split('\\n')[1].split(':')[1].strip()\n",
    "        heart = driver.find_element_by_id('conLike').text\n",
    "        share = driver.find_element_by_id('conShare').text\n",
    "        view = driver.find_element_by_id('conRead').text\n",
    "        content_full = driver.find_element_by_class_name('wrap_contView').text\n",
    "        try:\n",
    "            content = content_full.split('글, 사진 : ')[0]\n",
    "            editor = content_full.split('글, 사진 : ')[1].split('\\n※')[0]\n",
    "        except:\n",
    "            try:\n",
    "                content = content_full.split('글 : ')[0]\n",
    "                editor = content_full.split('글 : ')[1].split('\\n※')[0]\n",
    "            except:\n",
    "                content = content_full.split('글·사진 : ')[0]\n",
    "                editor = content_full.split('글·사진 : ')[1].split('\\n※')[0]\n",
    "\n",
    "        data = {'title' : title, 'addr': addr, \n",
    "                'date':date, 'heart':heart, 'share':share,\n",
    "               'view': view, 'content':content,'editor': editor}\n",
    "        content_list.append(data)\n",
    "    \n",
    "\n",
    "    df = pd.DataFramerame(content_list)\n",
    "    df.to_csv('여행지-상세내용.csv', encoding='utf-8')\n",
    "        \n",
    "        \n",
    "        \n",
    "except TimeoutException:\n",
    "    print(\"Timeout\")"
   ]
  },
  {
   "cell_type": "code",
   "execution_count": null,
   "metadata": {},
   "outputs": [],
   "source": []
  }
 ],
 "metadata": {
  "kernelspec": {
   "display_name": "Python 3",
   "language": "python",
   "name": "python3"
  },
  "language_info": {
   "codemirror_mode": {
    "name": "ipython",
    "version": 3
   },
   "file_extension": ".py",
   "mimetype": "text/x-python",
   "name": "python",
   "nbconvert_exporter": "python",
   "pygments_lexer": "ipython3",
   "version": "3.6.8"
  }
 },
 "nbformat": 4,
 "nbformat_minor": 2
}
