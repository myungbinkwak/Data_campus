{
 "cells": [
  {
   "cell_type": "code",
   "execution_count": 2,
   "source": [
    "import pandas as pd\r\n",
    "import csv\r\n",
    "import matplotlib.pyplot as plt\r\n",
    "import numpy as np"
   ],
   "outputs": [],
   "metadata": {}
  },
  {
   "cell_type": "markdown",
   "source": [
    "지하철 유무임별 이용현황 데이터 정제하기"
   ],
   "metadata": {}
  },
  {
   "cell_type": "markdown",
   "source": [
    "인원숫자 데이터 정수로 바꾸기\r\n",
    "\r\n",
    "유임 승차 비율이 가장 높은 역은 어디일까?"
   ],
   "metadata": {}
  },
  {
   "cell_type": "code",
   "execution_count": 8,
   "source": [
    "f = open('subwayfee.csv')\r\n",
    "data = csv.reader(f)\r\n",
    "next(data)\r\n",
    "mx = 0\r\n",
    "rate = 0\r\n",
    "\r\n",
    "for row in data:\r\n",
    "    for i in range(4,8):\r\n",
    "        row[i] = int(row[i])\r\n",
    "    if row[6] !=0 and (row[4]+row[6]) > 1000000:\r\n",
    "        rate = row[4] / (row[4]+row[6])    \r\n",
    "        if rate>mx:\r\n",
    "            mx=rate\r\n",
    "            print(row, round(rate, 2))\r\n",
    "            "
   ],
   "outputs": [
    {
     "output_type": "stream",
     "name": "stdout",
     "text": [
      "['2019-01', '1호선', '0150', '서울역', 1516452, 1400464, 221180, 211764] 0.87\n",
      "['2019-01', '1호선', '0152', '종각', 1240810, 1177643, 162410, 152062] 0.88\n",
      "['2019-01', '2호선', '0202', '을지로입구', 1415414, 1414980, 120425, 111592] 0.92\n",
      "['2019-01', '2호선', '0212', '건대입구', 1238362, 1367192, 96044, 100954] 0.93\n",
      "['2019-01', '2호선', '0219', '삼성(무역센터)', 1708765, 1751738, 130382, 122279] 0.93\n",
      "['2019-01', '2호선', '0222', '강남', 3153418, 3210437, 186486, 167666] 0.94\n",
      "['2019-01', '2호선', '0239', '홍대입구', 2351935, 2507561, 114832, 111488] 0.95\n"
     ]
    }
   ],
   "metadata": {}
  },
  {
   "cell_type": "markdown",
   "source": [
    "출근시간대 가장 많이 타는 사람들(아침 7시)"
   ],
   "metadata": {}
  },
  {
   "cell_type": "code",
   "execution_count": 20,
   "source": [
    "f = open('subwaytime.csv')\r\n",
    "data = csv.reader(f)\r\n",
    "next(data)\r\n",
    "next(data)\r\n",
    "result = []\r\n",
    "\r\n",
    "for row in data:\r\n",
    "    row[4:]=map(int, row[4:])\r\n",
    "    result.append(row[10])\r\n",
    "\r\n",
    "print(len(result))\r\n",
    "print(result)      \r\n",
    "\r\n",
    "plt.style.use('ggplot')\r\n",
    "plt.bar(range(len(result)), result)\r\n",
    "   "
   ],
   "outputs": [
    {
     "output_type": "stream",
     "name": "stdout",
     "text": [
      "598\n",
      "[39110, 7703, 6733, 6066, 5143, 14893, 20077, 22615, 46015, 6088, 5822, 8459, 5822, 3225, 7973, 27835, 38199, 31012, 6313, 23263, 25458, 59821, 70814, 99368, 45639, 130638, 59461, 18787, 17974, 23502, 16391, 48487, 27365, 14946, 26301, 78413, 89675, 146181, 84974, 243083, 99608, 154641, 77272, 153133, 46364, 45277, 56578, 48068, 75744, 40444, 18646, 26197, 18343, 7965, 6917, 3353, 3160, 32301, 43628, 4860, 3988, 91650, 148741, 58325, 55607, 62354, 14773, 16297, 15231, 6464, 1992, 2337, 0, 5340, 25921, 27033, 24997, 17015, 13731, 16790, 28669, 8261, 27157, 36344, 15093, 8325, 25900, 3695, 25425, 21481, 38038, 22032, 23508, 26639, 49477, 101709, 59128, 108209, 141391, 127573, 54631, 92454, 88501, 52815, 33607, 17800, 5662, 7510, 10424, 5612, 6458, 12348, 18564, 5669, 11193, 13780, 4651, 49720, 78726, 3340, 6380, 12719, 21239, 19333, 31594, 42323, 9949, 24815, 39212, 15241, 47110, 44522, 37137, 89122, 28664, 89750, 19514, 28555, 71907, 42380, 77372, 43514, 16219, 48837, 9716, 9749, 21289, 3085, 11855, 9157, 5282, 24051, 5263, 1584, 12138, 8757, 28239, 11118, 13191, 102383, 51233, 139670, 127056, 133782, 104104, 33578, 67792, 73755, 39575, 48303, 5734, 28465, 40308, 43925, 27432, 7721, 22025, 45976, 15548, 8773, 2872, 5009, 34, 6761, 26713, 26535, 23224, 38643, 28922, 37100, 18199, 22515, 0, 33032, 20720, 27233, 28023, 60318, 45613, 26295, 19146, 37268, 8535, 22065, 21735, 10092, 4825, 5691, 5942, 64390, 15216, 16974, 86991, 30974, 51600, 30417, 11801, 26504, 7218, 18571, 35129, 20607, 21542, 1801, 673, 18617, 17858, 90202, 61519, 96163, 3688, 19126, 7004, 2419, 6744, 8430, 24977, 1, 28855, 14358, 5296, 7136, 4318, 18701, 45127, 62115, 57586, 35997, 17844, 29899, 26836, 33968, 14915, 10012, 43681, 20719, 19247, 37243, 19538, 18026, 18213, 47885, 17277, 22889, 7745, 39208, 0, 61144, 48268, 59077, 6137, 24609, 17547, 8953, 27554, 68616, 60949, 23633, 20676, 29526, 5547, 61624, 44038, 2480, 25941, 13618, 1264, 1384, 5843, 562, 2101, 1997, 801, 9690, 860, 3631, 187, 2195, 7123, 5753, 2837, 7925, 1972, 1687, 278, 4437, 4816, 2251, 1408, 18493, 5675, 2661, 3726, 18196, 43358, 16154, 1378, 35684, 24249, 52718, 42395, 21572, 27350, 16902, 20344, 2227, 2872, 18826, 0, 0, 0, 0, 0, 2051, 16695, 7884, 19369, 17273, 5176, 26488, 7130, 14939, 955, 3424, 532, 1996, 184, 73, 349, 431, 3911, 1997, 101, 8596, 12323, 14272, 6082, 1176, 14385, 14276, 9536, 19705, 11038, 3319, 2012, 3731, 3974, 10584, 29898, 10588, 5894, 3898, 6568, 4360, 833, 5265, 33410, 24572, 7401, 31836, 26095, 29477, 62971, 128061, 139522, 69298, 67001, 53755, 22228, 7654, 19069, 10431, 10399, 5459, 26163, 20404, 19821, 5579, 17043, 10566, 3606, 1411, 867, 6723, 22626, 33836, 6478, 16863, 56080, 49375, 32646, 43392, 43138, 28727, 67499, 24028, 37876, 33549, 35491, 75094, 25725, 10832, 20144, 10094, 26384, 32721, 22065, 72019, 17318, 12121, 13324, 1, 30752, 53100, 40142, 38344, 8515, 39459, 26662, 16590, 10188, 17413, 14834, 22427, 15392, 6875, 4892, 14369, 3236, 5585, 4568, 7413, 7727, 8849, 14905, 20553, 8862, 21609, 41534, 22912, 27561, 53407, 19499, 67381, 55748, 18286, 57793, 56751, 64546, 41621, 68168, 76395, 40606, 21401, 40404, 41591, 54399, 59324, 50925, 26108, 31636, 35718, 17282, 13275, 20581, 11981, 6990, 8657, 9914, 8329, 10577, 17631, 27280, 38829, 38570, 32099, 33041, 53375, 19842, 36148, 15804, 33675, 20278, 93286, 100278, 38233, 51028, 30096, 20759, 25287, 50700, 44400, 44977, 26143, 39162, 69923, 81944, 50030, 32446, 10599, 8611, 17587, 13303, 9910, 23995, 50900, 37594, 20480, 52891, 39400, 12815, 14597, 8904, 43458, 13832, 9051, 30341, 26742, 27634, 78872, 20434, 37541, 75256, 19186, 18591, 52644, 4252, 8655, 4056, 60869, 16764, 16984, 4976, 4600, 5107, 14830, 8584, 35371, 13461, 5827, 11519, 16128, 5458, 8804, 66113, 45980, 31076, 17140, 2165, 17466, 6331, 8188, 5728, 8758, 5401, 9939, 10595, 12092, 10227, 15152, 7309, 4438, 11517, 2068, 20599, 8566, 8940, 7188, 15720, 11517, 5945, 6395, 27463, 20034, 12345, 3373, 1868, 1098]\n"
     ]
    },
    {
     "output_type": "execute_result",
     "data": {
      "text/plain": [
       "<BarContainer object of 598 artists>"
      ]
     },
     "metadata": {},
     "execution_count": 20
    },
    {
     "output_type": "display_data",
     "data": {
      "text/plain": [
       "<Figure size 432x288 with 1 Axes>"
      ],
      "image/png": "[encoded data removed]"
     },
     "metadata": {}
    }
   ],
   "metadata": {}
  },
  {
   "cell_type": "markdown",
   "source": [
    "아침7~9시 승차인원 더하여 막대그래프"
   ],
   "metadata": {}
  },
  {
   "cell_type": "code",
   "execution_count": 24,
   "source": [
    "f = open('subwaytime.csv')\r\n",
    "data = csv.reader(f)\r\n",
    "next(data)\r\n",
    "next(data)\r\n",
    "result = []\r\n",
    "\r\n",
    "for row in data:\r\n",
    "    row[4:]=map(int, row[4:])\r\n",
    "    result.append(sum(row[10:15:2]))\r\n",
    "   \r\n",
    "\r\n",
    "print(len(result))\r\n",
    "print(result)      \r\n",
    "result.sort()\r\n",
    "plt.style.use('ggplot')\r\n",
    "plt.bar(range(len(result)), result)\r\n",
    "   "
   ],
   "outputs": [
    {
     "output_type": "stream",
     "name": "stdout",
     "text": [
      "598\n",
      "[180710, 30499, 32324, 30062, 26304, 62354, 72328, 82263, 153552, 24346, 26708, 45112, 29946, 17964, 37082, 104680, 142468, 127372, 23985, 80426, 89965, 246059, 276096, 360857, 145231, 464389, 203691, 69540, 72061, 102097, 74561, 197539, 107487, 66181, 99468, 269167, 326043, 495340, 287297, 809541, 336368, 496800, 265643, 420135, 126924, 130563, 176957, 152631, 245162, 143625, 66212, 90443, 62628, 29906, 22236, 13660, 8703, 81592, 110910, 16833, 11649, 230092, 441401, 174463, 163337, 194606, 44002, 55516, 63766, 26275, 9877, 12768, 2, 23502, 104453, 98509, 89179, 70398, 56165, 59665, 149843, 32549, 120164, 127130, 50747, 28471, 73318, 11932, 79676, 63187, 121500, 69530, 71628, 81569, 137553, 246500, 162644, 265806, 394404, 373397, 161413, 272135, 246388, 161961, 112848, 73431, 28307, 34384, 48855, 40408, 32275, 46380, 71153, 20355, 42874, 49090, 16592, 166176, 253564, 13110, 34626, 44693, 92581, 70999, 103862, 150146, 29520, 83632, 112754, 42963, 119190, 117569, 91940, 218030, 69885, 239816, 49246, 73082, 160774, 93600, 208876, 111090, 35363, 114593, 25827, 22763, 58598, 8357, 34158, 27079, 11879, 68823, 19257, 4668, 31141, 29895, 65483, 19405, 25013, 260542, 133957, 349863, 326316, 304604, 254132, 84456, 169696, 179114, 94556, 112543, 14748, 68922, 102465, 106410, 64513, 20809, 61711, 107484, 38859, 28807, 9814, 17735, 227, 20611, 102186, 90100, 77558, 112121, 88625, 91396, 51015, 57849, 3, 88778, 57687, 68312, 72463, 141124, 117251, 67361, 47789, 90241, 20799, 57216, 63678, 29572, 13913, 18004, 18588, 155292, 41266, 46744, 217047, 74595, 118875, 66478, 27948, 78162, 17122, 47697, 81352, 52596, 72814, 7188, 2853, 51694, 52527, 223096, 141006, 230479, 15556, 64387, 28213, 8843, 19197, 27786, 93471, 8, 77238, 57842, 21112, 27683, 19094, 65230, 162907, 206870, 182955, 116200, 63194, 98129, 91071, 101869, 45799, 29892, 113149, 57470, 53999, 100708, 56377, 47030, 51058, 118921, 45481, 61869, 23257, 102402, 0, 165315, 129223, 161397, 15371, 71629, 49296, 28450, 73811, 149618, 192967, 61436, 59227, 72493, 12655, 140631, 104371, 5491, 65306, 31252, 3600, 4285, 13766, 1373, 6391, 5306, 2765, 22034, 3369, 13120, 331, 7978, 18684, 13757, 8138, 27917, 6244, 6321, 1231, 14199, 14744, 8125, 4661, 53820, 15904, 8376, 11999, 41188, 93281, 41708, 3991, 76359, 55953, 105835, 83226, 48963, 63160, 38147, 54406, 7017, 8826, 51717, 0, 0, 0, 3, 1, 5597, 34217, 20089, 43110, 40443, 13359, 56658, 17020, 33245, 3150, 12479, 2033, 8996, 788, 366, 1388, 1212, 14740, 7849, 207, 20482, 31121, 36776, 18942, 4194, 39914, 35708, 27059, 45127, 27535, 8260, 5432, 8657, 10095, 31457, 86091, 29891, 16274, 10361, 18432, 12152, 2326, 14790, 78962, 58617, 26141, 86393, 64518, 76770, 165238, 371678, 400808, 203454, 189302, 152495, 61906, 23928, 59510, 34276, 38291, 20193, 87625, 68841, 64161, 18924, 60719, 42370, 15886, 5942, 4906, 26577, 73002, 109325, 23990, 55609, 180696, 160084, 109279, 148546, 129077, 92763, 200042, 69422, 104939, 82454, 84240, 162256, 75632, 31439, 53281, 25986, 65164, 81276, 57178, 215780, 46608, 35179, 35915, 4, 90583, 156159, 119686, 113209, 29478, 137524, 97519, 63345, 38349, 61685, 52414, 77017, 56961, 27265, 22455, 48506, 12156, 19835, 18819, 25424, 32245, 35482, 45489, 72679, 36749, 69460, 122936, 67838, 84439, 149901, 56395, 164485, 129615, 34148, 123564, 142079, 154231, 112401, 179280, 201940, 115957, 66823, 120970, 125804, 165871, 186410, 164115, 81533, 113867, 139672, 74833, 55200, 76658, 44755, 26782, 33850, 44407, 31904, 60510, 70276, 109828, 139083, 135596, 110061, 115193, 188002, 71697, 117778, 61467, 103104, 65079, 258100, 298289, 112036, 141205, 90218, 57511, 66320, 124589, 106141, 105720, 63138, 102366, 154946, 252929, 169906, 106317, 40008, 33326, 65682, 44019, 36084, 80425, 149497, 113576, 64545, 163444, 115224, 41408, 49272, 29756, 92372, 41021, 25588, 79459, 68818, 73250, 209410, 53345, 104749, 207040, 46301, 49624, 158231, 19006, 32214, 14316, 212328, 51464, 55388, 16136, 15435, 18788, 50842, 26220, 115190, 50191, 15779, 38864, 45882, 16577, 39931, 150564, 95880, 59146, 44683, 7556, 55821, 21498, 20326, 23557, 25521, 18254, 29965, 30602, 46181, 38376, 44647, 25015, 13853, 32446, 6039, 54750, 22995, 25114, 21663, 44156, 33671, 19641, 20696, 74027, 60032, 38957, 14591, 8732, 4905]\n"
     ]
    },
    {
     "output_type": "execute_result",
     "data": {
      "text/plain": [
       "<BarContainer object of 598 artists>"
      ]
     },
     "metadata": {},
     "execution_count": 24
    },
    {
     "output_type": "display_data",
     "data": {
      "text/plain": [
       "<Figure size 432x288 with 1 Axes>"
      ],
      "image/png": "[encoded data removed]"
     },
     "metadata": {}
    }
   ],
   "metadata": {}
  },
  {
   "cell_type": "markdown",
   "source": [
    "7~9시 사이 승차인원 최대 역과 호선을 찾아 출력"
   ],
   "metadata": {}
  },
  {
   "cell_type": "code",
   "execution_count": 26,
   "source": [
    "f = open('subwaytime.csv')\r\n",
    "data = csv.reader(f)\r\n",
    "next(data)\r\n",
    "next(data)\r\n",
    "mx=0\r\n",
    "mx_station=''\r\n",
    "for row in data:\r\n",
    "    row[4:]=map(int, row[4:])\r\n",
    "    if sum(row[10:15:2]) > mx:\r\n",
    "        mx = sum(row[10:15:2])\r\n",
    "        mx_station = row[3] +'('+row[1]+')'\r\n",
    "    \r\n",
    "print(mx_station, mx)\r\n",
    "\r\n",
    "   "
   ],
   "outputs": [
    {
     "output_type": "stream",
     "name": "stdout",
     "text": [
      "신림(2호선) 809541\n"
     ]
    }
   ],
   "metadata": {}
  },
  {
   "cell_type": "markdown",
   "source": [
    "7~9시 사이 하차인원 최대 역과 호선을 찾아 출력"
   ],
   "metadata": {}
  },
  {
   "cell_type": "code",
   "execution_count": 36,
   "source": [
    "f = open('subwaytime.csv')\r\n",
    "data = csv.reader(f)\r\n",
    "next(data)\r\n",
    "next(data)\r\n",
    "mx=0\r\n",
    "mx_station=''\r\n",
    "for row in data:\r\n",
    "    row[4:]=map(int, row[4:])\r\n",
    "    if sum(row[11:16:2]) > mx:\r\n",
    "        mx = sum(row[11:16:2])\r\n",
    "        mx_station = row[3] +'('+row[1]+')'\r\n",
    "    \r\n",
    "print(mx_station, mx)\r\n",
    "\r\n",
    "   "
   ],
   "outputs": [
    {
     "output_type": "stream",
     "name": "stdout",
     "text": [
      "강남(2호선) 984427\n"
     ]
    }
   ],
   "metadata": {}
  },
  {
   "cell_type": "markdown",
   "source": [
    "밤11시에 사람들이 가장 많이 타고 내리는 역 찾기"
   ],
   "metadata": {}
  },
  {
   "cell_type": "code",
   "execution_count": 50,
   "source": [
    "f = open('subwaytime.csv')\r\n",
    "data = csv.reader(f)\r\n",
    "next(data)\r\n",
    "next(data)\r\n",
    "mx=0\r\n",
    "mx_station=''\r\n",
    "t = int(input('몇시의 승차 인원이 가장 많은 역이 궁금하세요? :'))\r\n",
    "for row in data:\r\n",
    "    row[4:]=map(int, row[4:])\r\n",
    "    i = row[4+(t-4)*2]\r\n",
    "    if i > mx:\r\n",
    "        mx = i\r\n",
    "        mx_station = row[3] +'('+row[1]+')'\r\n",
    "    \r\n",
    "print(mx_station, mx)\r\n",
    "\r\n",
    "   "
   ],
   "outputs": [
    {
     "output_type": "stream",
     "name": "stdout",
     "text": [
      "강남(2호선) 145504\n"
     ]
    }
   ],
   "metadata": {}
  },
  {
   "cell_type": "markdown",
   "source": [
    "올림픽 메달\r\n"
   ],
   "metadata": {}
  },
  {
   "cell_type": "code",
   "execution_count": 58,
   "source": [
    "df = pd.read_html('https://en.wikipedia.org/wiki/All-time_Olympic_Games_medal_table', header=0, index_col=0)\r\n",
    "\r\n",
    "summer =df[1].iloc[1:, :5]\r\n",
    "summer"
   ],
   "outputs": [
    {
     "output_type": "execute_result",
     "data": {
      "text/plain": [
       "                                             Summer Olympic Games  \\\n",
       "Team                                                                \n",
       "Afghanistan (AFG)                                              14   \n",
       "Algeria (ALG)                                                  13   \n",
       "Argentina (ARG)                                                24   \n",
       "Armenia (ARM)                                                   6   \n",
       "Australasia (ANZ) [ANZ]                                         2   \n",
       "...                                                           ...   \n",
       "Zimbabwe (ZIM) [ZIM]                                           13   \n",
       "Independent Olympic Athletes (IOA) [IOA]                        3   \n",
       "Independent Olympic Participants (IOP) [IOP]                    1   \n",
       "Mixed team (ZZX) [ZZX]                                          3   \n",
       "Totals                                                         28   \n",
       "\n",
       "                                             Summer Olympic Games.1  \\\n",
       "Team                                                                  \n",
       "Afghanistan (AFG)                                                 0   \n",
       "Algeria (ALG)                                                     5   \n",
       "Argentina (ARG)                                                  21   \n",
       "Armenia (ARM)                                                     2   \n",
       "Australasia (ANZ) [ANZ]                                           3   \n",
       "...                                                             ...   \n",
       "Zimbabwe (ZIM) [ZIM]                                              3   \n",
       "Independent Olympic Athletes (IOA) [IOA]                          1   \n",
       "Independent Olympic Participants (IOP) [IOP]                      0   \n",
       "Mixed team (ZZX) [ZZX]                                            8   \n",
       "Totals                                                         5116   \n",
       "\n",
       "                                              Summer Olympic Games.2  \\\n",
       "Team                                                                   \n",
       "Afghanistan (AFG)                                                0.0   \n",
       "Algeria (ALG)                                                    4.0   \n",
       "Argentina (ARG)                                                 25.0   \n",
       "Armenia (ARM)                                                    6.0   \n",
       "Australasia (ANZ) [ANZ]                                          4.0   \n",
       "...                                                              ...   \n",
       "Zimbabwe (ZIM) [ZIM]                                             4.0   \n",
       "Independent Olympic Athletes (IOA) [IOA]                         0.0   \n",
       "Independent Olympic Participants (IOP) [IOP]                     1.0   \n",
       "Mixed team (ZZX) [ZZX]                                           5.0   \n",
       "Totals                                                        5080.0   \n",
       "\n",
       "                                              Summer Olympic Games.3  \\\n",
       "Team                                                                   \n",
       "Afghanistan (AFG)                                                2.0   \n",
       "Algeria (ALG)                                                    8.0   \n",
       "Argentina (ARG)                                                 28.0   \n",
       "Armenia (ARM)                                                    6.0   \n",
       "Australasia (ANZ) [ANZ]                                          5.0   \n",
       "...                                                              ...   \n",
       "Zimbabwe (ZIM) [ZIM]                                             1.0   \n",
       "Independent Olympic Athletes (IOA) [IOA]                         1.0   \n",
       "Independent Olympic Participants (IOP) [IOP]                     2.0   \n",
       "Mixed team (ZZX) [ZZX]                                           4.0   \n",
       "Totals                                                        5487.0   \n",
       "\n",
       "                                             Summer Olympic Games.4  \n",
       "Team                                                                 \n",
       "Afghanistan (AFG)                                                 2  \n",
       "Algeria (ALG)                                                    17  \n",
       "Argentina (ARG)                                                  74  \n",
       "Armenia (ARM)                                                    14  \n",
       "Australasia (ANZ) [ANZ]                                          12  \n",
       "...                                                             ...  \n",
       "Zimbabwe (ZIM) [ZIM]                                              8  \n",
       "Independent Olympic Athletes (IOA) [IOA]                          2  \n",
       "Independent Olympic Participants (IOP) [IOP]                      3  \n",
       "Mixed team (ZZX) [ZZX]                                           17  \n",
       "Totals                                                        15683  \n",
       "\n",
       "[153 rows x 5 columns]"
      ],
      "text/html": [
       "<div>\n",
       "<style scoped>\n",
       "    .dataframe tbody tr th:only-of-type {\n",
       "        vertical-align: middle;\n",
       "    }\n",
       "\n",
       "    .dataframe tbody tr th {\n",
       "        vertical-align: top;\n",
       "    }\n",
       "\n",
       "    .dataframe thead th {\n",
       "        text-align: right;\n",
       "    }\n",
       "</style>\n",
       "<table border=\"1\" class=\"dataframe\">\n",
       "  <thead>\n",
       "    <tr style=\"text-align: right;\">\n",
       "      <th></th>\n",
       "      <th>Summer Olympic Games</th>\n",
       "      <th>Summer Olympic Games.1</th>\n",
       "      <th>Summer Olympic Games.2</th>\n",
       "      <th>Summer Olympic Games.3</th>\n",
       "      <th>Summer Olympic Games.4</th>\n",
       "    </tr>\n",
       "    <tr>\n",
       "      <th>Team</th>\n",
       "      <th></th>\n",
       "      <th></th>\n",
       "      <th></th>\n",
       "      <th></th>\n",
       "      <th></th>\n",
       "    </tr>\n",
       "  </thead>\n",
       "  <tbody>\n",
       "    <tr>\n",
       "      <th>Afghanistan (AFG)</th>\n",
       "      <td>14</td>\n",
       "      <td>0</td>\n",
       "      <td>0.0</td>\n",
       "      <td>2.0</td>\n",
       "      <td>2</td>\n",
       "    </tr>\n",
       "    <tr>\n",
       "      <th>Algeria (ALG)</th>\n",
       "      <td>13</td>\n",
       "      <td>5</td>\n",
       "      <td>4.0</td>\n",
       "      <td>8.0</td>\n",
       "      <td>17</td>\n",
       "    </tr>\n",
       "    <tr>\n",
       "      <th>Argentina (ARG)</th>\n",
       "      <td>24</td>\n",
       "      <td>21</td>\n",
       "      <td>25.0</td>\n",
       "      <td>28.0</td>\n",
       "      <td>74</td>\n",
       "    </tr>\n",
       "    <tr>\n",
       "      <th>Armenia (ARM)</th>\n",
       "      <td>6</td>\n",
       "      <td>2</td>\n",
       "      <td>6.0</td>\n",
       "      <td>6.0</td>\n",
       "      <td>14</td>\n",
       "    </tr>\n",
       "    <tr>\n",
       "      <th>Australasia (ANZ) [ANZ]</th>\n",
       "      <td>2</td>\n",
       "      <td>3</td>\n",
       "      <td>4.0</td>\n",
       "      <td>5.0</td>\n",
       "      <td>12</td>\n",
       "    </tr>\n",
       "    <tr>\n",
       "      <th>...</th>\n",
       "      <td>...</td>\n",
       "      <td>...</td>\n",
       "      <td>...</td>\n",
       "      <td>...</td>\n",
       "      <td>...</td>\n",
       "    </tr>\n",
       "    <tr>\n",
       "      <th>Zimbabwe (ZIM) [ZIM]</th>\n",
       "      <td>13</td>\n",
       "      <td>3</td>\n",
       "      <td>4.0</td>\n",
       "      <td>1.0</td>\n",
       "      <td>8</td>\n",
       "    </tr>\n",
       "    <tr>\n",
       "      <th>Independent Olympic Athletes (IOA) [IOA]</th>\n",
       "      <td>3</td>\n",
       "      <td>1</td>\n",
       "      <td>0.0</td>\n",
       "      <td>1.0</td>\n",
       "      <td>2</td>\n",
       "    </tr>\n",
       "    <tr>\n",
       "      <th>Independent Olympic Participants (IOP) [IOP]</th>\n",
       "      <td>1</td>\n",
       "      <td>0</td>\n",
       "      <td>1.0</td>\n",
       "      <td>2.0</td>\n",
       "      <td>3</td>\n",
       "    </tr>\n",
       "    <tr>\n",
       "      <th>Mixed team (ZZX) [ZZX]</th>\n",
       "      <td>3</td>\n",
       "      <td>8</td>\n",
       "      <td>5.0</td>\n",
       "      <td>4.0</td>\n",
       "      <td>17</td>\n",
       "    </tr>\n",
       "    <tr>\n",
       "      <th>Totals</th>\n",
       "      <td>28</td>\n",
       "      <td>5116</td>\n",
       "      <td>5080.0</td>\n",
       "      <td>5487.0</td>\n",
       "      <td>15683</td>\n",
       "    </tr>\n",
       "  </tbody>\n",
       "</table>\n",
       "<p>153 rows × 5 columns</p>\n",
       "</div>"
      ]
     },
     "metadata": {},
     "execution_count": 58
    }
   ],
   "metadata": {}
  },
  {
   "cell_type": "code",
   "execution_count": 62,
   "source": [
    "summer.columns=['경기수','금','은','동','계']\r\n",
    "print(summer)\r\n",
    "summer.to_excel('하계.xlsx')"
   ],
   "outputs": [
    {
     "output_type": "stream",
     "name": "stdout",
     "text": [
      "                                             경기수     금       은       동      계\n",
      "Team                                                                         \n",
      "Afghanistan (AFG)                             14     0     0.0     2.0      2\n",
      "Algeria (ALG)                                 13     5     4.0     8.0     17\n",
      "Argentina (ARG)                               24    21    25.0    28.0     74\n",
      "Armenia (ARM)                                  6     2     6.0     6.0     14\n",
      "Australasia (ANZ) [ANZ]                        2     3     4.0     5.0     12\n",
      "...                                           ..   ...     ...     ...    ...\n",
      "Zimbabwe (ZIM) [ZIM]                          13     3     4.0     1.0      8\n",
      "Independent Olympic Athletes (IOA) [IOA]       3     1     0.0     1.0      2\n",
      "Independent Olympic Participants (IOP) [IOP]   1     0     1.0     2.0      3\n",
      "Mixed team (ZZX) [ZZX]                         3     8     5.0     4.0     17\n",
      "Totals                                        28  5116  5080.0  5487.0  15683\n",
      "\n",
      "[153 rows x 5 columns]\n"
     ]
    }
   ],
   "metadata": {}
  },
  {
   "cell_type": "code",
   "execution_count": 69,
   "source": [
    "index = pd.date_range('1/1/2000', periods=8)\r\n",
    "print(index)\r\n",
    "df=pd.DataFrame(np.random.rand(8,3), index=index, columns = list('ABC') )\r\n",
    "print(df['B']>0.4)\r\n",
    "df2 = df[df['B']>0.4]\r\n",
    "df2\r\n",
    "\r\n",
    "df2 = df2.T\r\n",
    "df2"
   ],
   "outputs": [
    {
     "output_type": "stream",
     "name": "stdout",
     "text": [
      "DatetimeIndex(['2000-01-01', '2000-01-02', '2000-01-03', '2000-01-04',\n",
      "               '2000-01-05', '2000-01-06', '2000-01-07', '2000-01-08'],\n",
      "              dtype='datetime64[ns]', freq='D')\n",
      "2000-01-01    False\n",
      "2000-01-02     True\n",
      "2000-01-03     True\n",
      "2000-01-04     True\n",
      "2000-01-05    False\n",
      "2000-01-06    False\n",
      "2000-01-07     True\n",
      "2000-01-08     True\n",
      "Freq: D, Name: B, dtype: bool\n"
     ]
    },
    {
     "output_type": "execute_result",
     "data": {
      "text/plain": [
       "   2000-01-02  2000-01-03  2000-01-04  2000-01-07  2000-01-08\n",
       "A    0.047432    0.198618    0.478199    0.299086    0.395296\n",
       "B    0.826519    0.590588    0.654271    0.573892    0.753595\n",
       "C    0.250416    0.900750    0.602943    0.310699    0.192340"
      ],
      "text/html": [
       "<div>\n",
       "<style scoped>\n",
       "    .dataframe tbody tr th:only-of-type {\n",
       "        vertical-align: middle;\n",
       "    }\n",
       "\n",
       "    .dataframe tbody tr th {\n",
       "        vertical-align: top;\n",
       "    }\n",
       "\n",
       "    .dataframe thead th {\n",
       "        text-align: right;\n",
       "    }\n",
       "</style>\n",
       "<table border=\"1\" class=\"dataframe\">\n",
       "  <thead>\n",
       "    <tr style=\"text-align: right;\">\n",
       "      <th></th>\n",
       "      <th>2000-01-02</th>\n",
       "      <th>2000-01-03</th>\n",
       "      <th>2000-01-04</th>\n",
       "      <th>2000-01-07</th>\n",
       "      <th>2000-01-08</th>\n",
       "    </tr>\n",
       "  </thead>\n",
       "  <tbody>\n",
       "    <tr>\n",
       "      <th>A</th>\n",
       "      <td>0.047432</td>\n",
       "      <td>0.198618</td>\n",
       "      <td>0.478199</td>\n",
       "      <td>0.299086</td>\n",
       "      <td>0.395296</td>\n",
       "    </tr>\n",
       "    <tr>\n",
       "      <th>B</th>\n",
       "      <td>0.826519</td>\n",
       "      <td>0.590588</td>\n",
       "      <td>0.654271</td>\n",
       "      <td>0.573892</td>\n",
       "      <td>0.753595</td>\n",
       "    </tr>\n",
       "    <tr>\n",
       "      <th>C</th>\n",
       "      <td>0.250416</td>\n",
       "      <td>0.900750</td>\n",
       "      <td>0.602943</td>\n",
       "      <td>0.310699</td>\n",
       "      <td>0.192340</td>\n",
       "    </tr>\n",
       "  </tbody>\n",
       "</table>\n",
       "</div>"
      ]
     },
     "metadata": {},
     "execution_count": 69
    }
   ],
   "metadata": {}
  },
  {
   "cell_type": "code",
   "execution_count": 71,
   "source": [
    "index = pd.date_range('1/1/2000', periods=8)\r\n",
    "print(index)\r\n",
    "df=pd.DataFrame(np.random.rand(8,3), index=index, columns = list('ABC'))\r\n",
    "df['D'] = df['A'] / df['B']\r\n",
    "df['E'] =np.sum(df, axis = 1)\r\n",
    "df"
   ],
   "outputs": [
    {
     "output_type": "stream",
     "name": "stdout",
     "text": [
      "DatetimeIndex(['2000-01-01', '2000-01-02', '2000-01-03', '2000-01-04',\n",
      "               '2000-01-05', '2000-01-06', '2000-01-07', '2000-01-08'],\n",
      "              dtype='datetime64[ns]', freq='D')\n"
     ]
    },
    {
     "output_type": "execute_result",
     "data": {
      "text/plain": [
       "                   A         B         C         D         E\n",
       "2000-01-01  0.294815  0.609825  0.561341  0.483442  1.949424\n",
       "2000-01-02  0.940928  0.395536  0.387784  2.378867  4.103115\n",
       "2000-01-03  0.447742  0.998728  0.996446  0.448312  2.891228\n",
       "2000-01-04  0.508216  0.112409  0.752214  4.521136  5.893975\n",
       "2000-01-05  0.543575  0.810082  0.424160  0.671013  2.448829\n",
       "2000-01-06  0.449183  0.475146  0.057991  0.945359  1.927679\n",
       "2000-01-07  0.184242  0.889396  0.285381  0.207154  1.566173\n",
       "2000-01-08  0.075246  0.502796  0.185848  0.149655  0.913545"
      ],
      "text/html": [
       "<div>\n",
       "<style scoped>\n",
       "    .dataframe tbody tr th:only-of-type {\n",
       "        vertical-align: middle;\n",
       "    }\n",
       "\n",
       "    .dataframe tbody tr th {\n",
       "        vertical-align: top;\n",
       "    }\n",
       "\n",
       "    .dataframe thead th {\n",
       "        text-align: right;\n",
       "    }\n",
       "</style>\n",
       "<table border=\"1\" class=\"dataframe\">\n",
       "  <thead>\n",
       "    <tr style=\"text-align: right;\">\n",
       "      <th></th>\n",
       "      <th>A</th>\n",
       "      <th>B</th>\n",
       "      <th>C</th>\n",
       "      <th>D</th>\n",
       "      <th>E</th>\n",
       "    </tr>\n",
       "  </thead>\n",
       "  <tbody>\n",
       "    <tr>\n",
       "      <th>2000-01-01</th>\n",
       "      <td>0.294815</td>\n",
       "      <td>0.609825</td>\n",
       "      <td>0.561341</td>\n",
       "      <td>0.483442</td>\n",
       "      <td>1.949424</td>\n",
       "    </tr>\n",
       "    <tr>\n",
       "      <th>2000-01-02</th>\n",
       "      <td>0.940928</td>\n",
       "      <td>0.395536</td>\n",
       "      <td>0.387784</td>\n",
       "      <td>2.378867</td>\n",
       "      <td>4.103115</td>\n",
       "    </tr>\n",
       "    <tr>\n",
       "      <th>2000-01-03</th>\n",
       "      <td>0.447742</td>\n",
       "      <td>0.998728</td>\n",
       "      <td>0.996446</td>\n",
       "      <td>0.448312</td>\n",
       "      <td>2.891228</td>\n",
       "    </tr>\n",
       "    <tr>\n",
       "      <th>2000-01-04</th>\n",
       "      <td>0.508216</td>\n",
       "      <td>0.112409</td>\n",
       "      <td>0.752214</td>\n",
       "      <td>4.521136</td>\n",
       "      <td>5.893975</td>\n",
       "    </tr>\n",
       "    <tr>\n",
       "      <th>2000-01-05</th>\n",
       "      <td>0.543575</td>\n",
       "      <td>0.810082</td>\n",
       "      <td>0.424160</td>\n",
       "      <td>0.671013</td>\n",
       "      <td>2.448829</td>\n",
       "    </tr>\n",
       "    <tr>\n",
       "      <th>2000-01-06</th>\n",
       "      <td>0.449183</td>\n",
       "      <td>0.475146</td>\n",
       "      <td>0.057991</td>\n",
       "      <td>0.945359</td>\n",
       "      <td>1.927679</td>\n",
       "    </tr>\n",
       "    <tr>\n",
       "      <th>2000-01-07</th>\n",
       "      <td>0.184242</td>\n",
       "      <td>0.889396</td>\n",
       "      <td>0.285381</td>\n",
       "      <td>0.207154</td>\n",
       "      <td>1.566173</td>\n",
       "    </tr>\n",
       "    <tr>\n",
       "      <th>2000-01-08</th>\n",
       "      <td>0.075246</td>\n",
       "      <td>0.502796</td>\n",
       "      <td>0.185848</td>\n",
       "      <td>0.149655</td>\n",
       "      <td>0.913545</td>\n",
       "    </tr>\n",
       "  </tbody>\n",
       "</table>\n",
       "</div>"
      ]
     },
     "metadata": {},
     "execution_count": 71
    }
   ],
   "metadata": {}
  },
  {
   "cell_type": "markdown",
   "source": [
    "판다스로 인구구조 분석하기"
   ],
   "metadata": {}
  },
  {
   "cell_type": "code",
   "execution_count": 73,
   "source": [
    "df = pd.read_csv('age.csv', encoding='cp949', index_col = 0)\r\n",
    "\r\n",
    "df = df.div(df['총인구수'], axis = 0)\r\n",
    "del df['총인구수'], df['연령구간인구수']\r\n",
    "print(df)"
   ],
   "outputs": [
    {
     "output_type": "error",
     "ename": "KeyError",
     "evalue": "'총인구수'",
     "traceback": [
      "\u001b[1;31m---------------------------------------------------------------------------\u001b[0m",
      "\u001b[1;31mKeyError\u001b[0m                                  Traceback (most recent call last)",
      "\u001b[1;32mC:\\ProgramData\\Anaconda3\\lib\\site-packages\\pandas\\core\\indexes\\base.py\u001b[0m in \u001b[0;36mget_loc\u001b[1;34m(self, key, method, tolerance)\u001b[0m\n\u001b[0;32m   3079\u001b[0m             \u001b[1;32mtry\u001b[0m\u001b[1;33m:\u001b[0m\u001b[1;33m\u001b[0m\u001b[1;33m\u001b[0m\u001b[0m\n\u001b[1;32m-> 3080\u001b[1;33m                 \u001b[1;32mreturn\u001b[0m \u001b[0mself\u001b[0m\u001b[1;33m.\u001b[0m\u001b[0m_engine\u001b[0m\u001b[1;33m.\u001b[0m\u001b[0mget_loc\u001b[0m\u001b[1;33m(\u001b[0m\u001b[0mcasted_key\u001b[0m\u001b[1;33m)\u001b[0m\u001b[1;33m\u001b[0m\u001b[1;33m\u001b[0m\u001b[0m\n\u001b[0m\u001b[0;32m   3081\u001b[0m             \u001b[1;32mexcept\u001b[0m \u001b[0mKeyError\u001b[0m \u001b[1;32mas\u001b[0m \u001b[0merr\u001b[0m\u001b[1;33m:\u001b[0m\u001b[1;33m\u001b[0m\u001b[1;33m\u001b[0m\u001b[0m\n",
      "\u001b[1;32mpandas\\_libs\\index.pyx\u001b[0m in \u001b[0;36mpandas._libs.index.IndexEngine.get_loc\u001b[1;34m()\u001b[0m\n",
      "\u001b[1;32mpandas\\_libs\\index.pyx\u001b[0m in \u001b[0;36mpandas._libs.index.IndexEngine.get_loc\u001b[1;34m()\u001b[0m\n",
      "\u001b[1;32mpandas\\_libs\\hashtable_class_helper.pxi\u001b[0m in \u001b[0;36mpandas._libs.hashtable.PyObjectHashTable.get_item\u001b[1;34m()\u001b[0m\n",
      "\u001b[1;32mpandas\\_libs\\hashtable_class_helper.pxi\u001b[0m in \u001b[0;36mpandas._libs.hashtable.PyObjectHashTable.get_item\u001b[1;34m()\u001b[0m\n",
      "\u001b[1;31mKeyError\u001b[0m: '총인구수'",
      "\nThe above exception was the direct cause of the following exception:\n",
      "\u001b[1;31mKeyError\u001b[0m                                  Traceback (most recent call last)",
      "\u001b[1;32m<ipython-input-73-47798ba248f7>\u001b[0m in \u001b[0;36m<module>\u001b[1;34m\u001b[0m\n\u001b[0;32m      1\u001b[0m \u001b[0mdf\u001b[0m \u001b[1;33m=\u001b[0m \u001b[0mpd\u001b[0m\u001b[1;33m.\u001b[0m\u001b[0mread_csv\u001b[0m\u001b[1;33m(\u001b[0m\u001b[1;34m'age.csv'\u001b[0m\u001b[1;33m,\u001b[0m \u001b[0mencoding\u001b[0m\u001b[1;33m=\u001b[0m\u001b[1;34m'cp949'\u001b[0m\u001b[1;33m,\u001b[0m \u001b[0mindex_col\u001b[0m \u001b[1;33m=\u001b[0m \u001b[1;36m0\u001b[0m\u001b[1;33m)\u001b[0m\u001b[1;33m\u001b[0m\u001b[1;33m\u001b[0m\u001b[0m\n\u001b[0;32m      2\u001b[0m \u001b[1;33m\u001b[0m\u001b[0m\n\u001b[1;32m----> 3\u001b[1;33m \u001b[0mdf\u001b[0m \u001b[1;33m=\u001b[0m \u001b[0mdf\u001b[0m\u001b[1;33m.\u001b[0m\u001b[0mdiv\u001b[0m\u001b[1;33m(\u001b[0m\u001b[0mdf\u001b[0m\u001b[1;33m[\u001b[0m\u001b[1;34m'총인구수'\u001b[0m\u001b[1;33m]\u001b[0m\u001b[1;33m,\u001b[0m \u001b[0maxis\u001b[0m \u001b[1;33m=\u001b[0m \u001b[1;36m0\u001b[0m\u001b[1;33m)\u001b[0m\u001b[1;33m\u001b[0m\u001b[1;33m\u001b[0m\u001b[0m\n\u001b[0m\u001b[0;32m      4\u001b[0m \u001b[1;32mdel\u001b[0m \u001b[0mdf\u001b[0m\u001b[1;33m[\u001b[0m\u001b[1;34m'총인구수'\u001b[0m\u001b[1;33m]\u001b[0m\u001b[1;33m,\u001b[0m \u001b[0mdf\u001b[0m\u001b[1;33m[\u001b[0m\u001b[1;34m'연령구간인구수'\u001b[0m\u001b[1;33m]\u001b[0m\u001b[1;33m\u001b[0m\u001b[1;33m\u001b[0m\u001b[0m\n\u001b[0;32m      5\u001b[0m \u001b[0mprint\u001b[0m\u001b[1;33m(\u001b[0m\u001b[0mdf\u001b[0m\u001b[1;33m)\u001b[0m\u001b[1;33m\u001b[0m\u001b[1;33m\u001b[0m\u001b[0m\n",
      "\u001b[1;32mC:\\ProgramData\\Anaconda3\\lib\\site-packages\\pandas\\core\\frame.py\u001b[0m in \u001b[0;36m__getitem__\u001b[1;34m(self, key)\u001b[0m\n\u001b[0;32m   3022\u001b[0m             \u001b[1;32mif\u001b[0m \u001b[0mself\u001b[0m\u001b[1;33m.\u001b[0m\u001b[0mcolumns\u001b[0m\u001b[1;33m.\u001b[0m\u001b[0mnlevels\u001b[0m \u001b[1;33m>\u001b[0m \u001b[1;36m1\u001b[0m\u001b[1;33m:\u001b[0m\u001b[1;33m\u001b[0m\u001b[1;33m\u001b[0m\u001b[0m\n\u001b[0;32m   3023\u001b[0m                 \u001b[1;32mreturn\u001b[0m \u001b[0mself\u001b[0m\u001b[1;33m.\u001b[0m\u001b[0m_getitem_multilevel\u001b[0m\u001b[1;33m(\u001b[0m\u001b[0mkey\u001b[0m\u001b[1;33m)\u001b[0m\u001b[1;33m\u001b[0m\u001b[1;33m\u001b[0m\u001b[0m\n\u001b[1;32m-> 3024\u001b[1;33m             \u001b[0mindexer\u001b[0m \u001b[1;33m=\u001b[0m \u001b[0mself\u001b[0m\u001b[1;33m.\u001b[0m\u001b[0mcolumns\u001b[0m\u001b[1;33m.\u001b[0m\u001b[0mget_loc\u001b[0m\u001b[1;33m(\u001b[0m\u001b[0mkey\u001b[0m\u001b[1;33m)\u001b[0m\u001b[1;33m\u001b[0m\u001b[1;33m\u001b[0m\u001b[0m\n\u001b[0m\u001b[0;32m   3025\u001b[0m             \u001b[1;32mif\u001b[0m \u001b[0mis_integer\u001b[0m\u001b[1;33m(\u001b[0m\u001b[0mindexer\u001b[0m\u001b[1;33m)\u001b[0m\u001b[1;33m:\u001b[0m\u001b[1;33m\u001b[0m\u001b[1;33m\u001b[0m\u001b[0m\n\u001b[0;32m   3026\u001b[0m                 \u001b[0mindexer\u001b[0m \u001b[1;33m=\u001b[0m \u001b[1;33m[\u001b[0m\u001b[0mindexer\u001b[0m\u001b[1;33m]\u001b[0m\u001b[1;33m\u001b[0m\u001b[1;33m\u001b[0m\u001b[0m\n",
      "\u001b[1;32mC:\\ProgramData\\Anaconda3\\lib\\site-packages\\pandas\\core\\indexes\\base.py\u001b[0m in \u001b[0;36mget_loc\u001b[1;34m(self, key, method, tolerance)\u001b[0m\n\u001b[0;32m   3080\u001b[0m                 \u001b[1;32mreturn\u001b[0m \u001b[0mself\u001b[0m\u001b[1;33m.\u001b[0m\u001b[0m_engine\u001b[0m\u001b[1;33m.\u001b[0m\u001b[0mget_loc\u001b[0m\u001b[1;33m(\u001b[0m\u001b[0mcasted_key\u001b[0m\u001b[1;33m)\u001b[0m\u001b[1;33m\u001b[0m\u001b[1;33m\u001b[0m\u001b[0m\n\u001b[0;32m   3081\u001b[0m             \u001b[1;32mexcept\u001b[0m \u001b[0mKeyError\u001b[0m \u001b[1;32mas\u001b[0m \u001b[0merr\u001b[0m\u001b[1;33m:\u001b[0m\u001b[1;33m\u001b[0m\u001b[1;33m\u001b[0m\u001b[0m\n\u001b[1;32m-> 3082\u001b[1;33m                 \u001b[1;32mraise\u001b[0m \u001b[0mKeyError\u001b[0m\u001b[1;33m(\u001b[0m\u001b[0mkey\u001b[0m\u001b[1;33m)\u001b[0m \u001b[1;32mfrom\u001b[0m \u001b[0merr\u001b[0m\u001b[1;33m\u001b[0m\u001b[1;33m\u001b[0m\u001b[0m\n\u001b[0m\u001b[0;32m   3083\u001b[0m \u001b[1;33m\u001b[0m\u001b[0m\n\u001b[0;32m   3084\u001b[0m         \u001b[1;32mif\u001b[0m \u001b[0mtolerance\u001b[0m \u001b[1;32mis\u001b[0m \u001b[1;32mnot\u001b[0m \u001b[1;32mNone\u001b[0m\u001b[1;33m:\u001b[0m\u001b[1;33m\u001b[0m\u001b[1;33m\u001b[0m\u001b[0m\n",
      "\u001b[1;31mKeyError\u001b[0m: '총인구수'"
     ]
    }
   ],
   "metadata": {}
  }
 ],
 "metadata": {
  "orig_nbformat": 4,
  "language_info": {
   "name": "python"
  }
 },
 "nbformat": 4,
 "nbformat_minor": 2
}